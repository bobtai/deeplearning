{
 "cells": [
  {
   "cell_type": "code",
   "execution_count": 1,
   "metadata": {
    "collapsed": true
   },
   "outputs": [],
   "source": [
    "import tensorflow as tf"
   ]
  },
  {
   "cell_type": "code",
   "execution_count": 8,
   "metadata": {},
   "outputs": [],
   "source": [
    "#使用張量運算模擬神經網路\n",
    "#Y=activation(X*W+b)\n",
    "X = tf.Variable([[0.4, 0.2, 0.4]])\n",
    "W = tf.Variable([[-0.5,-0.2],\n",
    "                 [-0.3, 0.4],\n",
    "                 [-0.5, 0.2]])\n",
    "b = tf.Variable([0.1, 0.2])\n",
    "XWb = tf.matmul(X,W)+b\n",
    "relu_Y = tf.nn.relu(XWb) #使用relu激活函數\n",
    "sigmoid_Y = tf.nn.sigmoid(XWb) #使用sigmoid激活函數"
   ]
  },
  {
   "cell_type": "code",
   "execution_count": 9,
   "metadata": {},
   "outputs": [
    {
     "name": "stdout",
     "output_type": "stream",
     "text": [
      "XWb = [[-0.35999998  0.28      ]]\n",
      "relu_Y = [[ 0.    0.28]]\n",
      "sigmoid_Y = [[ 0.41095957  0.56954622]]\n"
     ]
    }
   ],
   "source": [
    "with tf.Session() as sess:\n",
    "    init = tf.global_variables_initializer()\n",
    "    sess.run(init)\n",
    "    print('XWb =', sess.run(XWb))\n",
    "    print('relu_Y =', sess.run(relu_Y))\n",
    "    print('sigmoid_Y =', sess.run(sigmoid_Y))"
   ]
  },
  {
   "cell_type": "code",
   "execution_count": 10,
   "metadata": {
    "collapsed": true
   },
   "outputs": [],
   "source": [
    "#以亂數初始化模型的權重W和偏差b，tf.random_normal可產生常態分布的亂數矩陣\n",
    "X = tf.Variable([[0.4, 0.2, 0.4]]) #1*3的輸入矩陣\n",
    "W = tf.random_normal([3, 2]) #產生3*2的亂數矩陣\n",
    "b = tf.random_normal([1, 2]) #產生1*2的亂數矩陣\n",
    "Y = tf.nn.relu(tf.matmul(X,W)+b)"
   ]
  },
  {
   "cell_type": "code",
   "execution_count": 11,
   "metadata": {},
   "outputs": [
    {
     "name": "stdout",
     "output_type": "stream",
     "text": [
      "W = [[ 0.01643261  1.02194643]\n",
      " [ 1.04610837 -2.64075446]\n",
      " [-1.59176743 -0.04775552]]\n",
      "b = [[ 0.38080594 -0.7991665 ]]\n",
      "Y = [[ 1.08476818  0.4601739 ]]\n"
     ]
    }
   ],
   "source": [
    "with tf.Session() as sess:\n",
    "    init = tf.global_variables_initializer()\n",
    "    sess.run(init)\n",
    "    print('W =', sess.run(W))\n",
    "    print('b =', sess.run(b))\n",
    "    print('Y =', sess.run(Y))"
   ]
  },
  {
   "cell_type": "code",
   "execution_count": 12,
   "metadata": {},
   "outputs": [
    {
     "name": "stdout",
     "output_type": "stream",
     "text": [
      "W = [[ 0.64384288  1.22899091]\n",
      " [-0.39720941  0.68059981]\n",
      " [ 0.43061957  0.67745006]]\n",
      "b = [[-1.24221337  1.11834407]]\n",
      "Y = [[ 0.          2.01704025]]\n"
     ]
    }
   ],
   "source": [
    "with tf.Session() as sess:\n",
    "    init = tf.global_variables_initializer()\n",
    "    sess.run(init)\n",
    "    (_W,_b,_Y) = sess.run((W,b,Y)) #一次run三個ts變數\n",
    "    print('W =', _W)\n",
    "    print('b =', _b)\n",
    "    print('Y =', _Y)"
   ]
  },
  {
   "cell_type": "code",
   "execution_count": 13,
   "metadata": {
    "collapsed": true
   },
   "outputs": [],
   "source": [
    "#以placeholder傳入X值\n",
    "X = tf.placeholder('float', [None, 3])\n",
    "W = tf.random_normal([3, 2])\n",
    "b = tf.random_normal([1, 2])\n",
    "Y = tf.nn.relu(tf.matmul(X,W)+b)"
   ]
  },
  {
   "cell_type": "code",
   "execution_count": 14,
   "metadata": {},
   "outputs": [
    {
     "name": "stdout",
     "output_type": "stream",
     "text": [
      "X =\n",
      " [[ 0.40000001  0.2         0.40000001]]\n",
      "W =\n",
      " [[ 1.36824942 -1.38696539]\n",
      " [ 0.85981923 -1.21334791]\n",
      " [-0.2470956  -0.12866341]]\n",
      "b =\n",
      " [[ 0.37683281 -0.73466474]]\n",
      "Y =\n",
      " [[ 0.99725831  0.        ]]\n"
     ]
    }
   ],
   "source": [
    "with tf.Session() as sess:\n",
    "    init = tf.global_variables_initializer()\n",
    "    sess.run(init)\n",
    "    X_array = [[0.4, 0.2, 0.4]]\n",
    "    (_X,_W,_b,_Y) = sess.run((X,W,b,Y), feed_dict={X:X_array})\n",
    "    print('X =\\n', _X)\n",
    "    print('W =\\n', _W)\n",
    "    print('b =\\n', _b)\n",
    "    print('Y =\\n', _Y)"
   ]
  },
  {
   "cell_type": "code",
   "execution_count": 15,
   "metadata": {},
   "outputs": [
    {
     "name": "stdout",
     "output_type": "stream",
     "text": [
      "X =\n",
      " [[ 0.40000001  0.2         0.40000001]\n",
      " [ 0.30000001  0.40000001  0.5       ]\n",
      " [ 0.30000001 -0.40000001  0.5       ]]\n",
      "W =\n",
      " [[-1.57733417 -0.64000994]\n",
      " [ 0.50249869  1.54552114]\n",
      " [-1.48083115 -0.35752282]]\n",
      "b =\n",
      " [[ 2.0504725   0.96246105]]\n",
      "Y =\n",
      " [[ 0.927706    0.87255216]\n",
      " [ 1.0378561   1.20990515]\n",
      " [ 0.63585711  0.        ]]\n"
     ]
    }
   ],
   "source": [
    "#傳入3*3的X_array\n",
    "with tf.Session() as sess:\n",
    "    init = tf.global_variables_initializer()\n",
    "    sess.run(init)\n",
    "    X_array = [[0.4, 0.2, 0.4],\n",
    "               [0.3, 0.4, 0.5],\n",
    "               [0.3,-0.4, 0.5]]\n",
    "    (_X,_W,_b,_Y) = sess.run((X,W,b,Y), feed_dict={X:X_array})\n",
    "    print('X =\\n', _X)\n",
    "    print('W =\\n', _W)\n",
    "    print('b =\\n', _b)\n",
    "    print('Y =\\n', _Y)"
   ]
  },
  {
   "cell_type": "code",
   "execution_count": null,
   "metadata": {
    "collapsed": true
   },
   "outputs": [],
   "source": []
  }
 ],
 "metadata": {
  "kernelspec": {
   "display_name": "Python 3",
   "language": "python",
   "name": "python3"
  },
  "language_info": {
   "codemirror_mode": {
    "name": "ipython",
    "version": 3
   },
   "file_extension": ".py",
   "mimetype": "text/x-python",
   "name": "python",
   "nbconvert_exporter": "python",
   "pygments_lexer": "ipython3",
   "version": "3.6.1"
  }
 },
 "nbformat": 4,
 "nbformat_minor": 2
}
