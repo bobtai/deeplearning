{
 "cells": [
  {
   "cell_type": "code",
   "execution_count": null,
   "metadata": {},
   "outputs": [
    {
     "name": "stderr",
     "output_type": "stream",
     "text": [
      " * Running on http://127.0.0.1:5000/ (Press CTRL+C to quit)\n",
      "127.0.0.1 - - [12/Sep/2017 16:40:06] \"GET /upload HTTP/1.1\" 200 -\n",
      "127.0.0.1 - - [12/Sep/2017 16:40:11] \"POST /upload HTTP/1.1\" 302 -\n",
      "127.0.0.1 - - [12/Sep/2017 16:40:11] \"GET /upload?filename=1357009137-2864926121.gif HTTP/1.1\" 200 -\n",
      "127.0.0.1 - - [12/Sep/2017 16:42:39] \"GET /upload?filename=1357009137-2864926121.gif HTTP/1.1\" 200 -\n",
      "127.0.0.1 - - [12/Sep/2017 16:42:41] \"GET /upload?filename=1357009137-2864926121.gif HTTP/1.1\" 200 -\n",
      "127.0.0.1 - - [12/Sep/2017 16:47:44] \"GET /upload HTTP/1.1\" 200 -\n"
     ]
    }
   ],
   "source": [
    "import os\n",
    "from flask import Flask, request, redirect, url_for\n",
    "from werkzeug import secure_filename\n",
    "\n",
    "UPLOAD_FOLDER = '/Users/PChomeIM/uploads'\n",
    "#限制文件上傳類型，防止導致XSS的HTML和PHP在Server執行。\n",
    "ALLOWED_EXTENSIONS = ['txt', 'pdf', 'png', 'jpg', 'jpeg', 'gif']\n",
    "\n",
    "#判斷檔案名稱是否符合限制的檔案類型\n",
    "def allowed_file(filename):\n",
    "    return '.' in filename \\\n",
    "        and filename.rsplit('.')[1] in ALLOWED_EXTENSIONS\n",
    "    \n",
    "app = Flask(__name__)\n",
    "app.config['UPLOAD_FOLDER'] = UPLOAD_FOLDER\n",
    "\n",
    "@app.route('/upload', methods=['GET', 'POST'])\n",
    "def upload():\n",
    "    if request.method == 'POST':\n",
    "        file = request.files['file']\n",
    "        if file and allowed_file(file.filename):\n",
    "            #secure_filename('../../../../home/username/.bashrc') --> 'home_username_.bashrc'\n",
    "            #防止駭客使用路徑的方式，取得server的修改權限\n",
    "            filename = secure_filename(file.filename)\n",
    "            file.save(os.path.join(app.config['UPLOAD_FOLDER'], filename))\n",
    "            return redirect(url_for('upload',\n",
    "                                    filename=filename))\n",
    "    return '''\n",
    "    <!doctype html>\n",
    "    <title>Upload new File</title>\n",
    "    <h1>Upload new File</h1>\n",
    "    <form action=\"\" method=post enctype=multipart/form-data>\n",
    "      <p><input type=file name=file>\n",
    "         <input type=submit value=Upload>\n",
    "    </form>\n",
    "    '''\n",
    "        \n",
    "if __name__ == '__main__':\n",
    "    app.run()"
   ]
  },
  {
   "cell_type": "code",
   "execution_count": null,
   "metadata": {
    "collapsed": true
   },
   "outputs": [],
   "source": []
  }
 ],
 "metadata": {
  "kernelspec": {
   "display_name": "Python 3",
   "language": "python",
   "name": "python3"
  },
  "language_info": {
   "codemirror_mode": {
    "name": "ipython",
    "version": 3
   },
   "file_extension": ".py",
   "mimetype": "text/x-python",
   "name": "python",
   "nbconvert_exporter": "python",
   "pygments_lexer": "ipython3",
   "version": "3.6.1"
  }
 },
 "nbformat": 4,
 "nbformat_minor": 2
}
