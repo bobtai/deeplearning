{
 "cells": [
  {
   "cell_type": "code",
   "execution_count": 1,
   "metadata": {},
   "outputs": [],
   "source": [
    "# 長短期記憶模型, LSTM (Long-Short Term Memory)\n",
    "# 用來解決 RNN 只能記得短期記憶，不能記得長期記憶問題。"
   ]
  },
  {
   "cell_type": "code",
   "execution_count": 2,
   "metadata": {},
   "outputs": [
    {
     "name": "stdout",
     "output_type": "stream",
     "text": [
      "read train files: 25000\n",
      "read test files: 25000\n"
     ]
    },
    {
     "name": "stderr",
     "output_type": "stream",
     "text": [
      "Using TensorFlow backend.\n"
     ]
    }
   ],
   "source": [
    "# 執行資料前處理\n",
    "%run 'Keras_IMDb_Data_Preprocessing_Large.ipynb'"
   ]
  },
  {
   "cell_type": "code",
   "execution_count": 3,
   "metadata": {},
   "outputs": [],
   "source": [
    "from keras.models import Sequential\n",
    "from keras.layers.core import Dense, Dropout, Activation\n",
    "from keras.layers.embeddings import Embedding\n",
    "from keras.layers.recurrent import LSTM"
   ]
  },
  {
   "cell_type": "code",
   "execution_count": 4,
   "metadata": {},
   "outputs": [],
   "source": [
    "model = Sequential()"
   ]
  },
  {
   "cell_type": "code",
   "execution_count": 5,
   "metadata": {},
   "outputs": [],
   "source": [
    "# 建立 Embedding 層，將數字list轉換成向量list。\n",
    "model.add(Embedding(output_dim=32, # 將數字list轉為32維度的向量\n",
    "                    input_dim=3800, # 字典改為3800字\n",
    "                    input_length=380)) # 資料長度改為380"
   ]
  },
  {
   "cell_type": "code",
   "execution_count": 6,
   "metadata": {},
   "outputs": [],
   "source": [
    "# 訓練時，會隨機放棄 20% 神經元，以避免 overfitting。\n",
    "model.add(Dropout(0.2))"
   ]
  },
  {
   "cell_type": "code",
   "execution_count": 7,
   "metadata": {},
   "outputs": [],
   "source": [
    "# 建立完 Embedding 層後，其後可以加上 MLP、RNN、LSTM 等模型，進行深度學習。\n",
    "# 這裡使用 LSTM 模型作為範例："
   ]
  },
  {
   "cell_type": "code",
   "execution_count": 8,
   "metadata": {},
   "outputs": [],
   "source": [
    "# 建立 LSTM 層\n",
    "model.add(LSTM(units=32)) # 有32個神經元"
   ]
  },
  {
   "cell_type": "code",
   "execution_count": 9,
   "metadata": {},
   "outputs": [],
   "source": [
    "# 建立隱藏層\n",
    "model.add(Dense(units=256, # 隱藏層神經元數\n",
    "                activation='relu'))"
   ]
  },
  {
   "cell_type": "code",
   "execution_count": 10,
   "metadata": {},
   "outputs": [],
   "source": [
    "# 加入 Dropout 層避免 overfitting。\n",
    "model.add(Dropout(0.2))"
   ]
  },
  {
   "cell_type": "code",
   "execution_count": 11,
   "metadata": {},
   "outputs": [],
   "source": [
    "# 建立輸出層\n",
    "model.add(Dense(units=1, # 輸出層只有一個神經元\n",
    "                activation='sigmoid'))"
   ]
  },
  {
   "cell_type": "code",
   "execution_count": 12,
   "metadata": {},
   "outputs": [
    {
     "name": "stdout",
     "output_type": "stream",
     "text": [
      "_________________________________________________________________\n",
      "Layer (type)                 Output Shape              Param #   \n",
      "=================================================================\n",
      "embedding_1 (Embedding)      (None, 380, 32)           121600    \n",
      "_________________________________________________________________\n",
      "dropout_1 (Dropout)          (None, 380, 32)           0         \n",
      "_________________________________________________________________\n",
      "lstm_1 (LSTM)                (None, 32)                8320      \n",
      "_________________________________________________________________\n",
      "dense_1 (Dense)              (None, 256)               8448      \n",
      "_________________________________________________________________\n",
      "dropout_2 (Dropout)          (None, 256)               0         \n",
      "_________________________________________________________________\n",
      "dense_2 (Dense)              (None, 1)                 257       \n",
      "=================================================================\n",
      "Total params: 138,625\n",
      "Trainable params: 138,625\n",
      "Non-trainable params: 0\n",
      "_________________________________________________________________\n"
     ]
    }
   ],
   "source": [
    "# 模型摘要\n",
    "model.summary()"
   ]
  },
  {
   "cell_type": "code",
   "execution_count": 13,
   "metadata": {},
   "outputs": [],
   "source": [
    "# 定義訓練方式\n",
    "model.compile(loss='binary_crossentropy', # 損失函數 \n",
    "              optimizer='adam', # 最佳化方式\n",
    "              metrics=['accuracy']) # 使用準確率評估模型"
   ]
  },
  {
   "cell_type": "code",
   "execution_count": 14,
   "metadata": {},
   "outputs": [
    {
     "name": "stdout",
     "output_type": "stream",
     "text": [
      "Train on 20000 samples, validate on 5000 samples\n",
      "Epoch 1/10\n",
      " - 230s - loss: 0.5502 - acc: 0.7158 - val_loss: 0.5775 - val_acc: 0.7542\n",
      "Epoch 2/10\n",
      " - 242s - loss: 0.3066 - acc: 0.8717 - val_loss: 0.4061 - val_acc: 0.8184\n",
      "Epoch 3/10\n",
      " - 232s - loss: 0.2423 - acc: 0.9053 - val_loss: 0.3924 - val_acc: 0.8154\n",
      "Epoch 4/10\n",
      " - 234s - loss: 0.2064 - acc: 0.9205 - val_loss: 0.5315 - val_acc: 0.7624\n",
      "Epoch 5/10\n",
      " - 232s - loss: 0.1880 - acc: 0.9285 - val_loss: 0.4782 - val_acc: 0.8186\n",
      "Epoch 6/10\n",
      " - 234s - loss: 0.1694 - acc: 0.9379 - val_loss: 0.3144 - val_acc: 0.8616\n",
      "Epoch 7/10\n",
      " - 233s - loss: 0.1596 - acc: 0.9400 - val_loss: 0.4076 - val_acc: 0.8438\n",
      "Epoch 8/10\n",
      " - 240s - loss: 0.2059 - acc: 0.9159 - val_loss: 0.4712 - val_acc: 0.8354\n",
      "Epoch 9/10\n",
      " - 236s - loss: 0.1334 - acc: 0.9522 - val_loss: 0.5376 - val_acc: 0.8312\n",
      "Epoch 10/10\n",
      " - 234s - loss: 0.1202 - acc: 0.9568 - val_loss: 0.5147 - val_acc: 0.8134\n"
     ]
    }
   ],
   "source": [
    "# 開始訓練\n",
    "train_history = model.fit(train_feature, train_label, batch_size=100,\n",
    "                          epochs=10, validation_split=0.2, verbose=2)"
   ]
  },
  {
   "cell_type": "code",
   "execution_count": 15,
   "metadata": {},
   "outputs": [
    {
     "name": "stdout",
     "output_type": "stream",
     "text": [
      "25000/25000 [==============================] - 160s 6ms/step\n"
     ]
    },
    {
     "data": {
      "text/plain": [
       "0.84687999999999997"
      ]
     },
     "execution_count": 15,
     "metadata": {},
     "output_type": "execute_result"
    }
   ],
   "source": [
    "# 評估模型準確率\n",
    "scores = model.evaluate(test_feature, test_label, verbose=1)\n",
    "scores[1]"
   ]
  },
  {
   "cell_type": "code",
   "execution_count": null,
   "metadata": {},
   "outputs": [],
   "source": []
  }
 ],
 "metadata": {
  "kernelspec": {
   "display_name": "Python 3",
   "language": "python",
   "name": "python3"
  },
  "language_info": {
   "codemirror_mode": {
    "name": "ipython",
    "version": 3
   },
   "file_extension": ".py",
   "mimetype": "text/x-python",
   "name": "python",
   "nbconvert_exporter": "python",
   "pygments_lexer": "ipython3",
   "version": "3.4.4"
  }
 },
 "nbformat": 4,
 "nbformat_minor": 2
}
