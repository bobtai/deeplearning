{
 "cells": [
  {
   "cell_type": "code",
   "execution_count": 1,
   "metadata": {},
   "outputs": [],
   "source": [
    "# 遞歸神經網絡, RNN (Recurrent Neural Network)\n",
    "# 適合解決有順序性的問題：\n",
    "# 1.自然語言處理：之前的字詞會影響到之後字詞的意義。\n",
    "# 2.股票交易資料：交易資料隨時間變動。\n",
    "# 3.影片處理：影片是由一張張圖片，依時間排列而成。\n",
    "\n",
    "# 以自然語言為例，例如：有前後兩句話，「聖誕交換禮物」、「活動很有趣」，\n",
    "# 後面的活動通常指的就是聖誕交換禮物。"
   ]
  },
  {
   "cell_type": "code",
   "execution_count": 2,
   "metadata": {},
   "outputs": [
    {
     "name": "stdout",
     "output_type": "stream",
     "text": [
      "read train files: 25000\n",
      "read test files: 25000\n"
     ]
    },
    {
     "name": "stderr",
     "output_type": "stream",
     "text": [
      "Using TensorFlow backend.\n"
     ]
    }
   ],
   "source": [
    "# 執行資料前處理\n",
    "%run 'Keras_IMDb_Data_Preprocessing_Large.ipynb'"
   ]
  },
  {
   "cell_type": "code",
   "execution_count": 3,
   "metadata": {},
   "outputs": [],
   "source": [
    "from keras.models import Sequential\n",
    "from keras.layers.core import Dense, Dropout, Activation\n",
    "from keras.layers.embeddings import Embedding\n",
    "from keras.layers.recurrent import SimpleRNN"
   ]
  },
  {
   "cell_type": "code",
   "execution_count": 4,
   "metadata": {},
   "outputs": [],
   "source": [
    "model = Sequential()"
   ]
  },
  {
   "cell_type": "code",
   "execution_count": 5,
   "metadata": {},
   "outputs": [],
   "source": [
    "# 建立 Embedding 層，將數字list轉換為向量list。\n",
    "model.add(Embedding(output_dim=32, # 將數字list轉為32維度的向量\n",
    "                    input_dim=3800, # 字典改為3800字\n",
    "                    input_length=380)) # 資料長度改為380"
   ]
  },
  {
   "cell_type": "code",
   "execution_count": 6,
   "metadata": {},
   "outputs": [],
   "source": [
    "# 訓練時，會隨機放棄 20% 神經元，以避免 overfitting。\n",
    "model.add(Dropout(0.2))"
   ]
  },
  {
   "cell_type": "code",
   "execution_count": 7,
   "metadata": {},
   "outputs": [],
   "source": [
    "# 建立完 Embedding 層後，其後可以加上 MLP、RNN、LSTM 等模型，進行深度學習。\n",
    "# 這裡使用 RNN 模型"
   ]
  },
  {
   "cell_type": "code",
   "execution_count": 8,
   "metadata": {},
   "outputs": [],
   "source": [
    "# 建立 RNN 層\n",
    "model.add(SimpleRNN(units=16)) # 16個神經元"
   ]
  },
  {
   "cell_type": "code",
   "execution_count": 9,
   "metadata": {},
   "outputs": [],
   "source": [
    "# 建立隱藏層\n",
    "model.add(Dense(units=256, # 隱藏層神經元數\n",
    "                activation='relu'))"
   ]
  },
  {
   "cell_type": "code",
   "execution_count": 10,
   "metadata": {},
   "outputs": [],
   "source": [
    "# 加入 Dropout 層避免 overfitting。\n",
    "model.add(Dropout(0.35))"
   ]
  },
  {
   "cell_type": "code",
   "execution_count": 11,
   "metadata": {},
   "outputs": [],
   "source": [
    "# 建立輸出層\n",
    "model.add(Dense(units=1, # 輸出層只有一個神經元\n",
    "                activation='sigmoid'))"
   ]
  },
  {
   "cell_type": "code",
   "execution_count": 12,
   "metadata": {},
   "outputs": [
    {
     "name": "stdout",
     "output_type": "stream",
     "text": [
      "_________________________________________________________________\n",
      "Layer (type)                 Output Shape              Param #   \n",
      "=================================================================\n",
      "embedding_1 (Embedding)      (None, 380, 32)           121600    \n",
      "_________________________________________________________________\n",
      "dropout_1 (Dropout)          (None, 380, 32)           0         \n",
      "_________________________________________________________________\n",
      "simple_rnn_1 (SimpleRNN)     (None, 16)                784       \n",
      "_________________________________________________________________\n",
      "dense_1 (Dense)              (None, 256)               4352      \n",
      "_________________________________________________________________\n",
      "dropout_2 (Dropout)          (None, 256)               0         \n",
      "_________________________________________________________________\n",
      "dense_2 (Dense)              (None, 1)                 257       \n",
      "=================================================================\n",
      "Total params: 126,993\n",
      "Trainable params: 126,993\n",
      "Non-trainable params: 0\n",
      "_________________________________________________________________\n"
     ]
    }
   ],
   "source": [
    "# 模型摘要\n",
    "model.summary()"
   ]
  },
  {
   "cell_type": "code",
   "execution_count": 13,
   "metadata": {},
   "outputs": [],
   "source": [
    "# 定義訓練方式\n",
    "model.compile(loss='binary_crossentropy', # 損失函數 \n",
    "              optimizer='adam', # 最佳化方式\n",
    "              metrics=['accuracy']) # 使用準確率評估模型"
   ]
  },
  {
   "cell_type": "code",
   "execution_count": 14,
   "metadata": {},
   "outputs": [
    {
     "name": "stdout",
     "output_type": "stream",
     "text": [
      "Train on 20000 samples, validate on 5000 samples\n",
      "Epoch 1/10\n",
      " - 70s - loss: 0.5364 - acc: 0.7228 - val_loss: 0.5605 - val_acc: 0.7664\n",
      "Epoch 2/10\n",
      " - 70s - loss: 0.3218 - acc: 0.8701 - val_loss: 0.4470 - val_acc: 0.8086\n",
      "Epoch 3/10\n",
      " - 67s - loss: 0.2717 - acc: 0.8943 - val_loss: 0.4728 - val_acc: 0.7990\n",
      "Epoch 4/10\n",
      " - 67s - loss: 0.2105 - acc: 0.9215 - val_loss: 0.5950 - val_acc: 0.7762\n",
      "Epoch 5/10\n",
      " - 65s - loss: 0.1545 - acc: 0.9438 - val_loss: 0.7311 - val_acc: 0.7624\n",
      "Epoch 6/10\n",
      " - 67s - loss: 0.1408 - acc: 0.9470 - val_loss: 0.8518 - val_acc: 0.7662\n",
      "Epoch 7/10\n",
      " - 66s - loss: 0.0928 - acc: 0.9675 - val_loss: 0.8414 - val_acc: 0.7772\n",
      "Epoch 8/10\n",
      " - 67s - loss: 0.0657 - acc: 0.9753 - val_loss: 1.2800 - val_acc: 0.7256\n",
      "Epoch 9/10\n",
      " - 65s - loss: 0.0565 - acc: 0.9807 - val_loss: 1.1985 - val_acc: 0.7424\n",
      "Epoch 10/10\n",
      " - 66s - loss: 0.0597 - acc: 0.9790 - val_loss: 1.1717 - val_acc: 0.7604\n"
     ]
    }
   ],
   "source": [
    "# 開始訓練\n",
    "train_history = model.fit(train_feature, train_label, batch_size=100,\n",
    "                          epochs=10, validation_split=0.2, verbose=2)"
   ]
  },
  {
   "cell_type": "code",
   "execution_count": 15,
   "metadata": {},
   "outputs": [
    {
     "name": "stdout",
     "output_type": "stream",
     "text": [
      "25000/25000 [==============================] - 59s 2ms/step\n"
     ]
    },
    {
     "data": {
      "text/plain": [
       "0.82152000000000003"
      ]
     },
     "execution_count": 15,
     "metadata": {},
     "output_type": "execute_result"
    }
   ],
   "source": [
    "# 評估模型準確率\n",
    "scores = model.evaluate(test_feature, test_label, verbose=1)\n",
    "scores[1]"
   ]
  },
  {
   "cell_type": "code",
   "execution_count": null,
   "metadata": {},
   "outputs": [],
   "source": []
  }
 ],
 "metadata": {
  "kernelspec": {
   "display_name": "Python 3",
   "language": "python",
   "name": "python3"
  },
  "language_info": {
   "codemirror_mode": {
    "name": "ipython",
    "version": 3
   },
   "file_extension": ".py",
   "mimetype": "text/x-python",
   "name": "python",
   "nbconvert_exporter": "python",
   "pygments_lexer": "ipython3",
   "version": "3.4.4"
  }
 },
 "nbformat": 4,
 "nbformat_minor": 2
}
