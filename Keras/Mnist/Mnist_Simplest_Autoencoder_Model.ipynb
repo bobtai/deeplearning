{
 "cells": [
  {
   "cell_type": "code",
   "execution_count": 1,
   "metadata": {},
   "outputs": [
    {
     "name": "stderr",
     "output_type": "stream",
     "text": [
      "Using TensorFlow backend.\n"
     ]
    },
    {
     "name": "stdout",
     "output_type": "stream",
     "text": [
      "(60000, 784)\n",
      "(10000, 784)\n"
     ]
    }
   ],
   "source": [
    "# data preprocess\n",
    "from keras.datasets import mnist\n",
    "import numpy as np\n",
    "\n",
    "(train_features, _), (test_features, _) = mnist.load_data()  # labels is not used in autoencoder model\n",
    "train_features = train_features / 255  # normalize values between 0 ~ 1\n",
    "test_features = test_features / 255\n",
    "train_features = train_features.reshape((train_features.shape[0], -1))  # reshape to new shape(data_length, 784)\n",
    "test_features = test_features.reshape((test_features.shape[0], -1))\n",
    "print(train_features.shape)\n",
    "print(test_features.shape)"
   ]
  },
  {
   "cell_type": "code",
   "execution_count": 2,
   "metadata": {},
   "outputs": [],
   "source": [
    "# build the simplest autoencoder model\n",
    "from keras.layers import Input, Dense\n",
    "from keras.models import Model\n",
    "\n",
    "# construct the autoencoder model\n",
    "encoding_dim = 32  # compress 784 dim into 32 dim\n",
    "input_img = Input(shape=(784, ))  # 784 dim input placeholder\n",
    "encoded = Dense(encoding_dim, activation='relu')(input_img)  # encoder layer\n",
    "decoded = Dense(784, activation='sigmoid')(encoded)  # decoder layer\n",
    "autoencoder = Model(inputs=input_img, outputs=decoded)\n",
    "\n",
    "# construct the encoder model\n",
    "encoder = Model(inputs=input_img, outputs=encoded)\n",
    "\n",
    "# construct the decoder model\n",
    "decoded_input = Input(shape=(encoding_dim, ))  # 32 dim imput placeholder\n",
    "decoder_layer = autoencoder.layers[-1]  # retrieve the last layer of the autoencoder model\n",
    "decoder = Model(inputs=decoded_input, outputs=decoder_layer(decoded_input))\n",
    "\n",
    "# define optimizer and loss\n",
    "autoencoder.compile(optimizer='adam',\n",
    "                    loss='binary_crossentropy',\n",
    "                    metrics=['accuracy'])  # display accuracy in training process"
   ]
  },
  {
   "cell_type": "code",
   "execution_count": 3,
   "metadata": {},
   "outputs": [
    {
     "name": "stdout",
     "output_type": "stream",
     "text": [
      "Train on 60000 samples, validate on 10000 samples\n",
      "Epoch 1/10\n",
      "60000/60000 [==============================] - 4s 67us/step - loss: 0.2771 - acc: 0.7821 - val_loss: 0.1900 - val_acc: 0.7991\n",
      "Epoch 2/10\n",
      "60000/60000 [==============================] - 3s 57us/step - loss: 0.1716 - acc: 0.8024 - val_loss: 0.1543 - val_acc: 0.8047\n",
      "Epoch 3/10\n",
      "60000/60000 [==============================] - 3s 57us/step - loss: 0.1451 - acc: 0.8070 - val_loss: 0.1349 - val_acc: 0.8081\n",
      "Epoch 4/10\n",
      "60000/60000 [==============================] - 3s 58us/step - loss: 0.1296 - acc: 0.8096 - val_loss: 0.1224 - val_acc: 0.8099\n",
      "Epoch 5/10\n",
      "60000/60000 [==============================] - 3s 57us/step - loss: 0.1191 - acc: 0.8112 - val_loss: 0.1136 - val_acc: 0.8109\n",
      "Epoch 6/10\n",
      "60000/60000 [==============================] - 3s 57us/step - loss: 0.1117 - acc: 0.8122 - val_loss: 0.1075 - val_acc: 0.8118\n",
      "Epoch 7/10\n",
      "60000/60000 [==============================] - 4s 62us/step - loss: 0.1064 - acc: 0.8128 - val_loss: 0.1030 - val_acc: 0.8121\n",
      "Epoch 8/10\n",
      "60000/60000 [==============================] - 3s 58us/step - loss: 0.1025 - acc: 0.8133 - val_loss: 0.0996 - val_acc: 0.8126\n",
      "Epoch 9/10\n",
      "60000/60000 [==============================] - 3s 58us/step - loss: 0.0997 - acc: 0.8136 - val_loss: 0.0973 - val_acc: 0.8129\n",
      "Epoch 10/10\n",
      "60000/60000 [==============================] - 4s 59us/step - loss: 0.0976 - acc: 0.8138 - val_loss: 0.0957 - val_acc: 0.8131\n"
     ]
    },
    {
     "data": {
      "text/plain": [
       "<keras.callbacks.History at 0x109ddfeb8>"
      ]
     },
     "execution_count": 3,
     "metadata": {},
     "output_type": "execute_result"
    }
   ],
   "source": [
    "# train autoencoder model\n",
    "autoencoder.fit(x=train_features,\n",
    "                y=train_features,\n",
    "                epochs=10,\n",
    "                batch_size=256,\n",
    "                shuffle=True,\n",
    "                validation_data=(test_features, test_features))"
   ]
  },
  {
   "cell_type": "code",
   "execution_count": 4,
   "metadata": {},
   "outputs": [],
   "source": [
    "# using test images to encode and decode some digits  \n",
    "encoded_imgs = encoder.predict(test_features)\n",
    "decoded_imgs = decoder.predict(encoded_imgs)"
   ]
  },
  {
   "cell_type": "code",
   "execution_count": 5,
   "metadata": {},
   "outputs": [
    {
     "data": {
      "image/png": "[encoded data removed]",
      "text/plain": [
       "<matplotlib.figure.Figure at 0x139ee2c18>"
      ]
     },
     "metadata": {},
     "output_type": "display_data"
    }
   ],
   "source": [
    "# visualize the reconstructed digits\n",
    "import matplotlib.pyplot as plt\n",
    "\n",
    "n = 10  # how many digits we will display\n",
    "plt.figure(figsize=(20, 4))\n",
    "for i in range(n):\n",
    "    # display original digits\n",
    "    ax = plt.subplot(2, n, i + 1)\n",
    "    plt.imshow(test_features[i].reshape(28, 28))\n",
    "    plt.gray()\n",
    "    ax.get_xaxis().set_visible(False)\n",
    "    ax.get_yaxis().set_visible(False)\n",
    "\n",
    "    # display reconstructed digits\n",
    "    ax = plt.subplot(2, n, i + 1 + n)\n",
    "    plt.imshow(decoded_imgs[i].reshape(28, 28))\n",
    "    plt.gray()\n",
    "    ax.get_xaxis().set_visible(False)\n",
    "    ax.get_yaxis().set_visible(False)\n",
    "plt.show()"
   ]
  },
  {
   "cell_type": "code",
   "execution_count": null,
   "metadata": {},
   "outputs": [],
   "source": []
  }
 ],
 "metadata": {
  "kernelspec": {
   "display_name": "Python 3",
   "language": "python",
   "name": "python3"
  },
  "language_info": {
   "codemirror_mode": {
    "name": "ipython",
    "version": 3
   },
   "file_extension": ".py",
   "mimetype": "text/x-python",
   "name": "python",
   "nbconvert_exporter": "python",
   "pygments_lexer": "ipython3",
   "version": "3.4.4"
  }
 },
 "nbformat": 4,
 "nbformat_minor": 2
}
