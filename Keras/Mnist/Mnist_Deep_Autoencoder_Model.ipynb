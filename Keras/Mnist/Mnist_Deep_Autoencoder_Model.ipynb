{
 "cells": [
  {
   "cell_type": "code",
   "execution_count": 1,
   "metadata": {},
   "outputs": [
    {
     "name": "stderr",
     "output_type": "stream",
     "text": [
      "Using TensorFlow backend.\n"
     ]
    },
    {
     "name": "stdout",
     "output_type": "stream",
     "text": [
      "(60000, 784)\n",
      "(10000, 784)\n"
     ]
    }
   ],
   "source": [
    "# data preprocess\n",
    "from keras.datasets import mnist\n",
    "import numpy as np\n",
    "\n",
    "(train_features, _), (test_features, _) = mnist.load_data()  # labels is not used in autoencoder model\n",
    "train_features = train_features / 255  # normalize values between 0 ~ 1\n",
    "test_features = test_features / 255\n",
    "train_features = train_features.reshape((train_features.shape[0], -1))  # reshape to new shape(data_length, 784)\n",
    "test_features = test_features.reshape((test_features.shape[0], -1))\n",
    "print(train_features.shape)\n",
    "print(test_features.shape)"
   ]
  },
  {
   "cell_type": "code",
   "execution_count": 2,
   "metadata": {},
   "outputs": [],
   "source": [
    "# build the simplest autoencoder model\n",
    "from keras.layers import Input, Dense\n",
    "from keras.models import Model\n",
    "\n",
    "encoding_dim = 32  # compress 784 dim into 32 dim\n",
    "# input layer\n",
    "input_img = Input(shape=(784, ))  # 784 dim input placeholder\n",
    "# encoder layer\n",
    "encoded = Dense(128, activation='relu')(input_img)\n",
    "encoded = Dense(64, activation='relu')(encoded)\n",
    "encoded = Dense(encoding_dim, activation='relu')(encoded)\n",
    "# decoder layer\n",
    "decoded = Dense(64, activation='sigmoid')(encoded)\n",
    "decoded = Dense(128, activation='sigmoid')(decoded)\n",
    "decoded = Dense(784, activation='sigmoid')(decoded)\n",
    "\n",
    "# construct the autoencoder model\n",
    "autoencoder = Model(inputs=input_img, outputs=decoded)\n",
    "\n",
    "# construct the encoder model\n",
    "encoder = Model(inputs=input_img, outputs=encoded)\n",
    "\n",
    "# define optimizer and loss\n",
    "autoencoder.compile(optimizer='adam',\n",
    "                    loss='binary_crossentropy',\n",
    "                    metrics=['accuracy'])  # display accuracy in training process"
   ]
  },
  {
   "cell_type": "code",
   "execution_count": 3,
   "metadata": {},
   "outputs": [
    {
     "name": "stdout",
     "output_type": "stream",
     "text": [
      "Train on 60000 samples, validate on 10000 samples\n",
      "Epoch 1/20\n",
      "60000/60000 [==============================] - 5s 87us/step - loss: 0.2961 - acc: 0.7950 - val_loss: 0.2632 - val_acc: 0.8014\n",
      "Epoch 2/20\n",
      "60000/60000 [==============================] - 5s 75us/step - loss: 0.2573 - acc: 0.8020 - val_loss: 0.2473 - val_acc: 0.7965\n",
      "Epoch 3/20\n",
      "60000/60000 [==============================] - 4s 73us/step - loss: 0.2426 - acc: 0.7974 - val_loss: 0.2363 - val_acc: 0.7957\n",
      "Epoch 4/20\n",
      "60000/60000 [==============================] - 5s 79us/step - loss: 0.2277 - acc: 0.7971 - val_loss: 0.2176 - val_acc: 0.7965\n",
      "Epoch 5/20\n",
      "60000/60000 [==============================] - 5s 77us/step - loss: 0.2106 - acc: 0.7968 - val_loss: 0.2003 - val_acc: 0.7974\n",
      "Epoch 6/20\n",
      "60000/60000 [==============================] - 4s 72us/step - loss: 0.1949 - acc: 0.7990 - val_loss: 0.1866 - val_acc: 0.8003\n",
      "Epoch 7/20\n",
      "60000/60000 [==============================] - 4s 73us/step - loss: 0.1826 - acc: 0.8011 - val_loss: 0.1777 - val_acc: 0.8015\n",
      "Epoch 8/20\n",
      "60000/60000 [==============================] - 4s 71us/step - loss: 0.1756 - acc: 0.8020 - val_loss: 0.1712 - val_acc: 0.8023\n",
      "Epoch 9/20\n",
      "60000/60000 [==============================] - 5s 81us/step - loss: 0.1689 - acc: 0.8032 - val_loss: 0.1638 - val_acc: 0.8032\n",
      "Epoch 10/20\n",
      "60000/60000 [==============================] - 5s 82us/step - loss: 0.1614 - acc: 0.8046 - val_loss: 0.1565 - val_acc: 0.8043\n",
      "Epoch 11/20\n",
      "60000/60000 [==============================] - 5s 81us/step - loss: 0.1554 - acc: 0.8055 - val_loss: 0.1518 - val_acc: 0.8044\n",
      "Epoch 12/20\n",
      "60000/60000 [==============================] - 5s 82us/step - loss: 0.1508 - acc: 0.8062 - val_loss: 0.1471 - val_acc: 0.8054\n",
      "Epoch 13/20\n",
      "60000/60000 [==============================] - 5s 76us/step - loss: 0.1465 - acc: 0.8068 - val_loss: 0.1435 - val_acc: 0.8065\n",
      "Epoch 14/20\n",
      "60000/60000 [==============================] - 5s 80us/step - loss: 0.1431 - acc: 0.8073 - val_loss: 0.1402 - val_acc: 0.8065\n",
      "Epoch 15/20\n",
      "60000/60000 [==============================] - 5s 80us/step - loss: 0.1404 - acc: 0.8077 - val_loss: 0.1376 - val_acc: 0.8071\n",
      "Epoch 16/20\n",
      "60000/60000 [==============================] - 5s 77us/step - loss: 0.1379 - acc: 0.8081 - val_loss: 0.1352 - val_acc: 0.8073\n",
      "Epoch 17/20\n",
      "60000/60000 [==============================] - 5s 77us/step - loss: 0.1354 - acc: 0.8084 - val_loss: 0.1327 - val_acc: 0.8076\n",
      "Epoch 18/20\n",
      "60000/60000 [==============================] - 5s 79us/step - loss: 0.1328 - acc: 0.8088 - val_loss: 0.1299 - val_acc: 0.8083\n",
      "Epoch 19/20\n",
      "60000/60000 [==============================] - 5s 79us/step - loss: 0.1299 - acc: 0.8093 - val_loss: 0.1271 - val_acc: 0.8088\n",
      "Epoch 20/20\n",
      "60000/60000 [==============================] - 5s 79us/step - loss: 0.1270 - acc: 0.8098 - val_loss: 0.1242 - val_acc: 0.8087\n"
     ]
    },
    {
     "data": {
      "text/plain": [
       "<keras.callbacks.History at 0x1399a0320>"
      ]
     },
     "execution_count": 3,
     "metadata": {},
     "output_type": "execute_result"
    }
   ],
   "source": [
    "# train autoencoder model\n",
    "autoencoder.fit(x=train_features,\n",
    "                y=train_features,\n",
    "                epochs=20,\n",
    "                batch_size=300,\n",
    "                shuffle=True,\n",
    "                validation_data=(test_features, test_features))"
   ]
  },
  {
   "cell_type": "code",
   "execution_count": 4,
   "metadata": {},
   "outputs": [],
   "source": [
    "# using test images to encode and decode some digits\n",
    "decoded_imgs = autoencoder.predict(test_features)"
   ]
  },
  {
   "cell_type": "code",
   "execution_count": 5,
   "metadata": {},
   "outputs": [
    {
     "data": {
      "image/png": "[encoded data removed]",
      "text/plain": [
       "<matplotlib.figure.Figure at 0x13a4f66d8>"
      ]
     },
     "metadata": {},
     "output_type": "display_data"
    }
   ],
   "source": [
    "# visualize the reconstructed digits\n",
    "import matplotlib.pyplot as plt\n",
    "\n",
    "n = 10  # how many digits we will display\n",
    "plt.figure(figsize=(20, 4))\n",
    "for i in range(n):\n",
    "    # display original digits\n",
    "    ax = plt.subplot(2, n, i + 1)\n",
    "    plt.imshow(test_features[i].reshape(28, 28))\n",
    "    plt.gray()\n",
    "    ax.get_xaxis().set_visible(False)\n",
    "    ax.get_yaxis().set_visible(False)\n",
    "\n",
    "    # display reconstructed digits\n",
    "    ax = plt.subplot(2, n, i + 1 + n)\n",
    "    plt.imshow(decoded_imgs[i].reshape(28, 28))\n",
    "    plt.gray()\n",
    "    ax.get_xaxis().set_visible(False)\n",
    "    ax.get_yaxis().set_visible(False)\n",
    "plt.show()"
   ]
  },
  {
   "cell_type": "code",
   "execution_count": null,
   "metadata": {},
   "outputs": [],
   "source": []
  }
 ],
 "metadata": {
  "kernelspec": {
   "display_name": "Python 3",
   "language": "python",
   "name": "python3"
  },
  "language_info": {
   "codemirror_mode": {
    "name": "ipython",
    "version": 3
   },
   "file_extension": ".py",
   "mimetype": "text/x-python",
   "name": "python",
   "nbconvert_exporter": "python",
   "pygments_lexer": "ipython3",
   "version": "3.4.4"
  }
 },
 "nbformat": 4,
 "nbformat_minor": 2
}
