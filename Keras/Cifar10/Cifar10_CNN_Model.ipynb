{
 "cells": [
  {
   "cell_type": "code",
   "execution_count": 1,
   "metadata": {},
   "outputs": [
    {
     "name": "stderr",
     "output_type": "stream",
     "text": [
      "Using TensorFlow backend.\n"
     ]
    }
   ],
   "source": [
    "from keras.datasets import cifar10\n",
    "import numpy as np\n",
    "np.random.seed(10)"
   ]
  },
  {
   "cell_type": "code",
   "execution_count": 2,
   "metadata": {
    "collapsed": true
   },
   "outputs": [],
   "source": [
    "(train_feature, train_label), (test_feature, test_label) = cifar10.load_data()"
   ]
  },
  {
   "cell_type": "code",
   "execution_count": 3,
   "metadata": {
    "scrolled": true
   },
   "outputs": [
    {
     "name": "stdout",
     "output_type": "stream",
     "text": [
      "train data: feature: (50000, 32, 32, 3) label: (50000, 1)\n",
      "test data: feature: (10000, 32, 32, 3) label: (10000, 1)\n"
     ]
    }
   ],
   "source": [
    "print(\"train data:\", \"feature:\", train_feature.shape, \"label:\", train_label.shape)\n",
    "print(\"test data:\", \"feature:\", test_feature.shape, \"label:\", test_label.shape)"
   ]
  },
  {
   "cell_type": "code",
   "execution_count": 4,
   "metadata": {},
   "outputs": [
    {
     "data": {
      "text/plain": [
       "array([59, 62, 63], dtype=uint8)"
      ]
     },
     "execution_count": 4,
     "metadata": {},
     "output_type": "execute_result"
    }
   ],
   "source": [
    "#取得第一筆資料第一個點的RBG數值\n",
    "train_feature[0][0][0]"
   ]
  },
  {
   "cell_type": "code",
   "execution_count": 5,
   "metadata": {
    "collapsed": true
   },
   "outputs": [],
   "source": [
    "#RBG數值最大255，將資料正規化須除以255\n",
    "train_feature_normalize = train_feature.astype('float32') / 255.0\n",
    "test_feature_normalize = test_feature.astype('float32') / 255.0"
   ]
  },
  {
   "cell_type": "code",
   "execution_count": 6,
   "metadata": {},
   "outputs": [
    {
     "data": {
      "text/plain": [
       "array([ 0.23137255,  0.24313726,  0.24705882], dtype=float32)"
      ]
     },
     "execution_count": 6,
     "metadata": {},
     "output_type": "execute_result"
    }
   ],
   "source": [
    "#正規化數值會介於0~1之間\n",
    "train_feature_normalize[0][0][0]"
   ]
  },
  {
   "cell_type": "code",
   "execution_count": 7,
   "metadata": {
    "collapsed": true
   },
   "outputs": [],
   "source": [
    "from keras.utils import np_utils"
   ]
  },
  {
   "cell_type": "code",
   "execution_count": 8,
   "metadata": {
    "collapsed": true
   },
   "outputs": [],
   "source": [
    "#分類的標籤需轉成onehot格式\n",
    "train_label_onehot = np_utils.to_categorical(train_label)\n",
    "test_label_onehot = np_utils.to_categorical(test_label)"
   ]
  },
  {
   "cell_type": "code",
   "execution_count": 9,
   "metadata": {
    "collapsed": true
   },
   "outputs": [],
   "source": [
    "from keras.models import Sequential\n",
    "from keras.layers import Dense, Dropout, Activation, Flatten\n",
    "from keras.layers import Conv2D, MaxPooling2D, ZeroPadding2D"
   ]
  },
  {
   "cell_type": "code",
   "execution_count": 10,
   "metadata": {
    "collapsed": true
   },
   "outputs": [],
   "source": [
    "#建立一個線性堆疊模型\n",
    "model = Sequential()"
   ]
  },
  {
   "cell_type": "code",
   "execution_count": 11,
   "metadata": {
    "collapsed": true
   },
   "outputs": [],
   "source": [
    "#建立第1層券積層，透過濾鏡產生32個影像特徵\n",
    "model.add(Conv2D(filters=32, kernel_size=(3,3),\n",
    "                 input_shape=(32,32,3),\n",
    "                 activation='relu',\n",
    "                 padding='same'))"
   ]
  },
  {
   "cell_type": "code",
   "execution_count": 12,
   "metadata": {
    "collapsed": true
   },
   "outputs": [],
   "source": [
    "#在第1層券積層加入Dropout層，避免overfitting\n",
    "model.add(Dropout(rate=0.25))"
   ]
  },
  {
   "cell_type": "code",
   "execution_count": 13,
   "metadata": {
    "collapsed": true
   },
   "outputs": [],
   "source": [
    "#建立第1層池化層，將32*32影像，縮小為16*16影像\n",
    "model.add(MaxPooling2D(pool_size=(2,2)))"
   ]
  },
  {
   "cell_type": "code",
   "execution_count": 14,
   "metadata": {
    "collapsed": true
   },
   "outputs": [],
   "source": [
    "#建立第2層券積層，透過濾鏡產生64個影像特徵\n",
    "model.add(Conv2D(filters=64, kernel_size=(3,3),\n",
    "                 activation='relu',\n",
    "                 padding='same'))"
   ]
  },
  {
   "cell_type": "code",
   "execution_count": 15,
   "metadata": {
    "collapsed": true
   },
   "outputs": [],
   "source": [
    "#在第2層券積層加入Dropout層，避免overfitting\n",
    "model.add(Dropout(rate=0.25))"
   ]
  },
  {
   "cell_type": "code",
   "execution_count": 16,
   "metadata": {
    "collapsed": true
   },
   "outputs": [],
   "source": [
    "#建立第2層池化層，將16*16影像，縮小為8*8影像\n",
    "model.add(MaxPooling2D(pool_size=(2,2)))"
   ]
  },
  {
   "cell_type": "code",
   "execution_count": 17,
   "metadata": {
    "collapsed": true
   },
   "outputs": [],
   "source": [
    "#建立平坦層，將64個8*8影像轉換為一維向量，64*8*8=4096個數字\n",
    "model.add(Flatten())\n",
    "model.add(Dropout(rate=0.25))"
   ]
  },
  {
   "cell_type": "code",
   "execution_count": 18,
   "metadata": {
    "collapsed": true
   },
   "outputs": [],
   "source": [
    "#建立有1024個神經元的隱藏層\n",
    "model.add(Dense(1024, activation='relu'))\n",
    "model.add(Dropout(rate=0.25))"
   ]
  },
  {
   "cell_type": "code",
   "execution_count": 19,
   "metadata": {
    "collapsed": true
   },
   "outputs": [],
   "source": [
    "#建立有10個神經元的輸出層\n",
    "model.add(Dense(10, activation='softmax'))"
   ]
  },
  {
   "cell_type": "code",
   "execution_count": 20,
   "metadata": {},
   "outputs": [
    {
     "name": "stdout",
     "output_type": "stream",
     "text": [
      "_________________________________________________________________\n",
      "Layer (type)                 Output Shape              Param #   \n",
      "=================================================================\n",
      "conv2d_1 (Conv2D)            (None, 32, 32, 32)        896       \n",
      "_________________________________________________________________\n",
      "dropout_1 (Dropout)          (None, 32, 32, 32)        0         \n",
      "_________________________________________________________________\n",
      "max_pooling2d_1 (MaxPooling2 (None, 16, 16, 32)        0         \n",
      "_________________________________________________________________\n",
      "conv2d_2 (Conv2D)            (None, 16, 16, 64)        18496     \n",
      "_________________________________________________________________\n",
      "dropout_2 (Dropout)          (None, 16, 16, 64)        0         \n",
      "_________________________________________________________________\n",
      "max_pooling2d_2 (MaxPooling2 (None, 8, 8, 64)          0         \n",
      "_________________________________________________________________\n",
      "flatten_1 (Flatten)          (None, 4096)              0         \n",
      "_________________________________________________________________\n",
      "dropout_3 (Dropout)          (None, 4096)              0         \n",
      "_________________________________________________________________\n",
      "dense_1 (Dense)              (None, 1024)              4195328   \n",
      "_________________________________________________________________\n",
      "dropout_4 (Dropout)          (None, 1024)              0         \n",
      "_________________________________________________________________\n",
      "dense_2 (Dense)              (None, 10)                10250     \n",
      "=================================================================\n",
      "Total params: 4,224,970\n",
      "Trainable params: 4,224,970\n",
      "Non-trainable params: 0\n",
      "_________________________________________________________________\n"
     ]
    }
   ],
   "source": [
    "model.summary()"
   ]
  },
  {
   "cell_type": "code",
   "execution_count": 21,
   "metadata": {
    "collapsed": true
   },
   "outputs": [],
   "source": [
    "#設定訓練方式\n",
    "model.compile(loss='categorical_crossentropy', optimizer='adam', metrics=['accuracy'])"
   ]
  },
  {
   "cell_type": "code",
   "execution_count": 22,
   "metadata": {},
   "outputs": [
    {
     "name": "stdout",
     "output_type": "stream",
     "text": [
      "Train on 40000 samples, validate on 10000 samples\n",
      "Epoch 1/10\n",
      "98s - loss: 1.4997 - acc: 0.4602 - val_loss: 1.2813 - val_acc: 0.5824\n",
      "Epoch 2/10\n",
      "98s - loss: 1.1345 - acc: 0.5965 - val_loss: 1.1101 - val_acc: 0.6369\n",
      "Epoch 3/10\n",
      "95s - loss: 0.9813 - acc: 0.6565 - val_loss: 1.0118 - val_acc: 0.6667\n",
      "Epoch 4/10\n",
      "100s - loss: 0.8756 - acc: 0.6918 - val_loss: 0.9399 - val_acc: 0.6969\n",
      "Epoch 5/10\n",
      "101s - loss: 0.7896 - acc: 0.7242 - val_loss: 0.8888 - val_acc: 0.7013\n",
      "Epoch 6/10\n",
      "100s - loss: 0.7055 - acc: 0.7520 - val_loss: 0.8436 - val_acc: 0.7216\n",
      "Epoch 7/10\n",
      "97s - loss: 0.6253 - acc: 0.7803 - val_loss: 0.8066 - val_acc: 0.7303\n",
      "Epoch 8/10\n",
      "96s - loss: 0.5612 - acc: 0.8009 - val_loss: 0.7794 - val_acc: 0.7402\n",
      "Epoch 9/10\n",
      "96s - loss: 0.4904 - acc: 0.8261 - val_loss: 0.7602 - val_acc: 0.7442\n",
      "Epoch 10/10\n",
      "97s - loss: 0.4364 - acc: 0.8480 - val_loss: 0.7719 - val_acc: 0.7393\n"
     ]
    }
   ],
   "source": [
    "#開始訓練\n",
    "#train_feature_normalize:已正規化的訓練集特徵資料\n",
    "#train_label_onehot:onehot格式的訓練集標籤資料\n",
    "#validation_split=0.2:使用訓練集中的20%作為驗證資料，共50000*0.2筆資料\n",
    "#epochs=10:執行10次訓練週期\n",
    "#batch_size=128:訓練時，每一批次使用128筆資料，大約會分40000/128=313批次訓練\n",
    "#verbose=2:顯示訓練過程\n",
    "train_history = model.fit(train_feature_normalize, train_label_onehot, \n",
    "                          validation_split=0.2, epochs=10, batch_size=128, verbose=2)"
   ]
  },
  {
   "cell_type": "code",
   "execution_count": 23,
   "metadata": {},
   "outputs": [
    {
     "name": "stdout",
     "output_type": "stream",
     "text": [
      " 9920/10000 [============================>.] - ETA: 0s"
     ]
    }
   ],
   "source": [
    "#使用測試集評估模型準確度\n",
    "scores = model.evaluate(test_feature_normalize, test_label_onehot)"
   ]
  },
  {
   "cell_type": "code",
   "execution_count": 24,
   "metadata": {},
   "outputs": [
    {
     "data": {
      "text/plain": [
       "0.72870000000000001"
      ]
     },
     "execution_count": 24,
     "metadata": {},
     "output_type": "execute_result"
    }
   ],
   "source": [
    "scores[1]"
   ]
  },
  {
   "cell_type": "code",
   "execution_count": 25,
   "metadata": {},
   "outputs": [
    {
     "name": "stdout",
     "output_type": "stream",
     "text": [
      " 9952/10000 [============================>.] - ETA: 0s"
     ]
    }
   ],
   "source": [
    "#使用建好的模型進行預測\n",
    "#使用model.predict_classes()取得預測分類\n",
    "prediction = model.predict_classes(test_feature_normalize)"
   ]
  },
  {
   "cell_type": "code",
   "execution_count": 26,
   "metadata": {},
   "outputs": [
    {
     "data": {
      "text/plain": [
       "array([3, 8, 8, 0, 6, 6, 1, 6, 3, 1])"
      ]
     },
     "execution_count": 26,
     "metadata": {},
     "output_type": "execute_result"
    }
   ],
   "source": [
    "prediction[:10]"
   ]
  },
  {
   "cell_type": "code",
   "execution_count": 27,
   "metadata": {
    "collapsed": true
   },
   "outputs": [],
   "source": [
    "label_dict = {0:\"airplane\", 1:\"automobile\", 2:\"bird\", 3:\"cat\",\n",
    "              4:\"deer\", 5:\"dog\", 6:\"frog\", 7:\"horse\", 8:\"ship\", 9:\"truck\"}"
   ]
  },
  {
   "cell_type": "code",
   "execution_count": 28,
   "metadata": {
    "collapsed": true
   },
   "outputs": [],
   "source": [
    "import matplotlib.pyplot as plt\n",
    "def plot_images_labels_prediction(images, labels, prediction, offset, length=10):\n",
    "    fig = plt.gcf()\n",
    "    fig.set_size_inches(12, 14)\n",
    "    if length > 25: length = 25\n",
    "    for i in range(0, length):\n",
    "        ax = plt.subplot(5, 5, 1+i)\n",
    "        ax.imshow(images[offset], cmap='binary')\n",
    "        title = str(labels[offset][0]) + \".\" + label_dict[labels[offset][0]]\n",
    "        if len(prediction) > 0:\n",
    "            title += \"=>\" + label_dict[prediction[offset]]\n",
    "        \n",
    "        ax.set_title(title, fontsize = 10)\n",
    "        ax.set_xticks([]);\n",
    "        ax.set_yticks([]);\n",
    "        offset += 1\n",
    "    plt.show()"
   ]
  },
  {
   "cell_type": "code",
   "execution_count": 29,
   "metadata": {},
   "outputs": [
    {
     "data": {
      "image/png": "[encoded data removed]",
      "text/plain": [
       "<matplotlib.figure.Figure at 0x154b2eef0>"
      ]
     },
     "metadata": {},
     "output_type": "display_data"
    }
   ],
   "source": [
    "plot_images_labels_prediction(test_feature, test_label, prediction, 0)"
   ]
  },
  {
   "cell_type": "code",
   "execution_count": 30,
   "metadata": {
    "collapsed": true
   },
   "outputs": [],
   "source": [
    "#使用model.predict()取得每一種類別的預測機率\n",
    "predicted_probability = model.predict(test_feature_normalize)"
   ]
  },
  {
   "cell_type": "code",
   "execution_count": 31,
   "metadata": {
    "collapsed": true
   },
   "outputs": [],
   "source": [
    "def show_predicted_probability(feature, label, prediction, predicted_probability, i):\n",
    "    print('lebal:', label_dict[label[i][0]], '\\npredict:', label_dict[prediction[i]])\n",
    "    plt.figure(figsize=(2,2))\n",
    "    plt.imshow(np.reshape(feature[i], (32,32,3)))\n",
    "    plt.show()\n",
    "    for j in range(10):\n",
    "        print(label_dict[j] + ' probability:%1.5f'%(predicted_probability[i][j]))"
   ]
  },
  {
   "cell_type": "code",
   "execution_count": 32,
   "metadata": {},
   "outputs": [
    {
     "name": "stdout",
     "output_type": "stream",
     "text": [
      "lebal: cat \n",
      "predict: cat\n"
     ]
    },
    {
     "data": {
      "image/png": "[encoded data removed]",
      "text/plain": [
       "<matplotlib.figure.Figure at 0x1568c20f0>"
      ]
     },
     "metadata": {},
     "output_type": "display_data"
    },
    {
     "name": "stdout",
     "output_type": "stream",
     "text": [
      "airplane probability:0.00383\n",
      "automobile probability:0.00379\n",
      "bird probability:0.03227\n",
      "cat probability:0.58196\n",
      "deer probability:0.00635\n",
      "dog probability:0.27873\n",
      "frog probability:0.05957\n",
      "horse probability:0.00399\n",
      "ship probability:0.02634\n",
      "truck probability:0.00318\n"
     ]
    }
   ],
   "source": [
    "show_predicted_probability(test_feature, test_label, prediction, predicted_probability, 0)"
   ]
  },
  {
   "cell_type": "code",
   "execution_count": 33,
   "metadata": {},
   "outputs": [
    {
     "name": "stdout",
     "output_type": "stream",
     "text": [
      "lebal: airplane \n",
      "predict: airplane\n"
     ]
    },
    {
     "data": {
      "image/png": "[encoded data removed]",
      "text/plain": [
       "<matplotlib.figure.Figure at 0x1568fdba8>"
      ]
     },
     "metadata": {},
     "output_type": "display_data"
    },
    {
     "name": "stdout",
     "output_type": "stream",
     "text": [
      "airplane probability:0.77157\n",
      "automobile probability:0.00267\n",
      "bird probability:0.05803\n",
      "cat probability:0.00122\n",
      "deer probability:0.00196\n",
      "dog probability:0.00002\n",
      "frog probability:0.00002\n",
      "horse probability:0.00001\n",
      "ship probability:0.16333\n",
      "truck probability:0.00116\n"
     ]
    }
   ],
   "source": [
    "show_predicted_probability(test_feature, test_label, prediction, predicted_probability, 3)"
   ]
  },
  {
   "cell_type": "code",
   "execution_count": 34,
   "metadata": {},
   "outputs": [
    {
     "data": {
      "text/plain": [
       "(10000, 10)"
      ]
     },
     "execution_count": 34,
     "metadata": {},
     "output_type": "execute_result"
    }
   ],
   "source": [
    "predicted_probability.shape"
   ]
  },
  {
   "cell_type": "code",
   "execution_count": 36,
   "metadata": {
    "collapsed": true
   },
   "outputs": [],
   "source": [
    "#儲存模型的權重，當模型要訓練比較久時，可預先儲存幾個週期的權重。\n",
    "#當系統發生錯誤而終止時，可載入之前已經訓練好的權重，將未訓練的週期完成。\n",
    "model.save_weights(\"/Users/PChomeIM/pywork/SaveModel/CifarCNNModelWeights.h5\")"
   ]
  },
  {
   "cell_type": "code",
   "execution_count": 37,
   "metadata": {
    "collapsed": true
   },
   "outputs": [],
   "source": [
    "#儲存整個模型，包含結構、權重、損失函數和最佳化方法\n",
    "model.save(\"/Users/PChomeIM/pywork/SaveModel/CifarCNNModel.h5\")"
   ]
  },
  {
   "cell_type": "code",
   "execution_count": null,
   "metadata": {
    "collapsed": true
   },
   "outputs": [],
   "source": []
  }
 ],
 "metadata": {
  "kernelspec": {
   "display_name": "Python 3",
   "language": "python",
   "name": "python3"
  },
  "language_info": {
   "codemirror_mode": {
    "name": "ipython",
    "version": 3
   },
   "file_extension": ".py",
   "mimetype": "text/x-python",
   "name": "python",
   "nbconvert_exporter": "python",
   "pygments_lexer": "ipython3",
   "version": "3.4.4"
  }
 },
 "nbformat": 4,
 "nbformat_minor": 2
}
