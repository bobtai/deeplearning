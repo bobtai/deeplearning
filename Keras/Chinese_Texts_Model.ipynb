{
 "cells": [
  {
   "cell_type": "code",
   "execution_count": 1,
   "metadata": {},
   "outputs": [],
   "source": [
    "# 訊息辨識模型 - 建立和訓練模型"
   ]
  },
  {
   "cell_type": "code",
   "execution_count": 2,
   "metadata": {},
   "outputs": [
    {
     "name": "stderr",
     "output_type": "stream",
     "text": [
      "Using TensorFlow backend.\n"
     ]
    }
   ],
   "source": [
    "# 執行資料前處理\n",
    "%run 'Chinese_Texts_Data_Preprocessing.ipynb'"
   ]
  },
  {
   "cell_type": "code",
   "execution_count": 3,
   "metadata": {},
   "outputs": [],
   "source": [
    "# 建立模型\n",
    "from keras.models import Sequential\n",
    "from keras.layers.core import Dense, Dropout, Activation, Flatten\n",
    "from keras.layers.embeddings import Embedding\n",
    "from keras.layers.recurrent import SimpleRNN, LSTM\n",
    "\n",
    "model = Sequential()\n",
    "model.add(Embedding(output_dim=32, # 將數字list轉為32維度的向量\n",
    "                    input_dim=1000, # 之前建立的字典為1000字\n",
    "                    input_length=20)) # 每一筆資料固定長度為20\n",
    "model.add(Dropout(0.25))\n",
    "#model.add(Flatten()) # MLP Model\n",
    "#model.add(SimpleRNN(units=16)) # RNN Model：有16個神經元\n",
    "model.add(LSTM(units=32)) # LSTM Model：有32個神經元\n",
    "model.add(Dense(units=256, # 隱藏層神經元數\n",
    "                activation='relu'))\n",
    "model.add(Dropout(0.25))\n",
    "model.add(Dense(units = 3, # 輸出層神經元數\n",
    "                kernel_initializer = 'normal',\n",
    "                activation = 'softmax'))\n",
    "model.compile(loss='binary_crossentropy', # 損失函數 \n",
    "              optimizer='adam', # 最佳化方式\n",
    "              metrics=['accuracy']) # 目標：準確率"
   ]
  },
  {
   "cell_type": "code",
   "execution_count": 4,
   "metadata": {},
   "outputs": [
    {
     "name": "stdout",
     "output_type": "stream",
     "text": [
      "Train on 1657 samples, validate on 415 samples\n",
      "Epoch 1/5\n",
      " - 5s - loss: 0.5797 - acc: 0.7041 - val_loss: 0.5693 - val_acc: 0.6795\n",
      "Epoch 2/5\n",
      " - 3s - loss: 0.3754 - acc: 0.8278 - val_loss: 0.4218 - val_acc: 0.8185\n",
      "Epoch 3/5\n",
      " - 3s - loss: 0.2637 - acc: 0.8948 - val_loss: 0.3640 - val_acc: 0.8378\n",
      "Epoch 4/5\n",
      " - 3s - loss: 0.2102 - acc: 0.9244 - val_loss: 0.3764 - val_acc: 0.8345\n",
      "Epoch 5/5\n",
      " - 3s - loss: 0.1988 - acc: 0.9238 - val_loss: 0.3543 - val_acc: 0.8442\n"
     ]
    }
   ],
   "source": [
    "# 訓練模型\n",
    "train_history = model.fit(train_features, train_labels, batch_size=30,\n",
    "                          epochs=5, validation_split=0.2, verbose=2)"
   ]
  },
  {
   "cell_type": "code",
   "execution_count": 5,
   "metadata": {},
   "outputs": [],
   "source": [
    "# 顯示每種標籤的預測機率\n",
    "class_dic = {0:'IM 問題', 1:'EC 問題', 2:'物流問題'}\n",
    "def show_predict_prob(predict_prob):\n",
    "    for j in range(len(predict_prob[0])):\n",
    "        print(\"  \" + class_dic[j] + ' :%1.5f'%(predict_prob[0][j]))"
   ]
  },
  {
   "cell_type": "code",
   "execution_count": 9,
   "metadata": {},
   "outputs": [
    {
     "name": "stdout",
     "output_type": "stream",
     "text": [
      "1/1 [==============================] - 0s 14ms/step\n",
      "\n",
      "預測結果：物流問題\n",
      "\n",
      "每種標籤預測機率：\n",
      "  IM 問題 :0.02221\n",
      "  EC 問題 :0.05625\n",
      "  物流問題 :0.92153\n"
     ]
    }
   ],
   "source": [
    "input_text = \"我買的商品什麼時候會送到？\"\n",
    "input_seq = token.texts_to_sequences([input_text])\n",
    "pad_input_seq = sequence.pad_sequences(input_seq, maxlen=20)\n",
    "predict_result = model.predict_classes(pad_input_seq)\n",
    "# 預測結果\n",
    "print(\"\\n預測結果：\" + class_dic[predict_result[0]])\n",
    "print(\"\\n每種標籤預測機率：\")\n",
    "# 取得每種標籤的預測機率\n",
    "predict_prob = model.predict(pad_input_seq)\n",
    "show_predict_prob(predict_prob)"
   ]
  },
  {
   "cell_type": "code",
   "execution_count": null,
   "metadata": {},
   "outputs": [],
   "source": []
  }
 ],
 "metadata": {
  "kernelspec": {
   "display_name": "Python 3",
   "language": "python",
   "name": "python3"
  },
  "language_info": {
   "codemirror_mode": {
    "name": "ipython",
    "version": 3
   },
   "file_extension": ".py",
   "mimetype": "text/x-python",
   "name": "python",
   "nbconvert_exporter": "python",
   "pygments_lexer": "ipython3",
   "version": "3.4.4"
  }
 },
 "nbformat": 4,
 "nbformat_minor": 2
}
