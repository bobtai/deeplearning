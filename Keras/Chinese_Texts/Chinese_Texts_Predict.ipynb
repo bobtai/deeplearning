{
 "cells": [
  {
   "cell_type": "code",
   "execution_count": 1,
   "metadata": {},
   "outputs": [],
   "source": [
    "# 訊息辨識模型 - predict new data"
   ]
  },
  {
   "cell_type": "code",
   "execution_count": 2,
   "metadata": {},
   "outputs": [
    {
     "name": "stderr",
     "output_type": "stream",
     "text": [
      "Using TensorFlow backend.\n"
     ]
    }
   ],
   "source": [
    "# loading tokenizer\n",
    "import pickle\n",
    "\n",
    "tokenizer_path = \"/Users/PChomeIM/pywork/SaveModel/Tokenizer.pickle\"\n",
    "tokenizer = \"\"\n",
    "with open(tokenizer_path, 'rb') as handle:\n",
    "    tokenizer = pickle.load(handle)"
   ]
  },
  {
   "cell_type": "code",
   "execution_count": 3,
   "metadata": {},
   "outputs": [],
   "source": [
    "# loading model\n",
    "from keras.models import Sequential, load_model\n",
    "\n",
    "model_path = \"/Users/PChomeIM/pywork/SaveModel/Text_LSTM_Model.h5\"\n",
    "model = load_model(model_path)"
   ]
  },
  {
   "cell_type": "code",
   "execution_count": 4,
   "metadata": {},
   "outputs": [],
   "source": [
    "# show predicted probability of the labels\n",
    "class_dic = {0:'IM 問題', 1:'EC 問題', 2:'物流問題'}\n",
    "def show_predicted_prob(predict_prob):\n",
    "    for j in range(len(predict_prob[0])):\n",
    "        print(\"  \" + class_dic[j] + ' :%1.5f'%(predict_prob[0][j]))"
   ]
  },
  {
   "cell_type": "code",
   "execution_count": 5,
   "metadata": {},
   "outputs": [],
   "source": [
    "# preprocess data and predict\n",
    "from keras.preprocessing import sequence\n",
    "\n",
    "def model_predict(input_text):\n",
    "    input_seq = tokenizer.texts_to_sequences([input_text])\n",
    "    pad_input_seq = sequence.pad_sequences(input_seq, maxlen=20)\n",
    "    predicted_result = model.predict_classes(pad_input_seq)\n",
    "    # 預測結果\n",
    "    print(\"問題：\" + input_text)\n",
    "    print(\"預測結果：\" + class_dic[predicted_result[0]])\n",
    "    print(\"每種標籤預測機率：\")\n",
    "    # 取得每種標籤的預測機率\n",
    "    predicted_prob = model.predict(pad_input_seq)\n",
    "    show_predicted_prob(predicted_prob)\n",
    "    print()"
   ]
  },
  {
   "cell_type": "code",
   "execution_count": 6,
   "metadata": {},
   "outputs": [
    {
     "name": "stdout",
     "output_type": "stream",
     "text": [
      "1/1 [==============================] - 0s 61ms/step\n",
      "問題：我買的商品什麼時候會送到？\n",
      "預測結果：物流問題\n",
      "每種標籤預測機率：\n",
      "  IM 問題 :0.01342\n",
      "  EC 問題 :0.07689\n",
      "  物流問題 :0.90969\n",
      "\n",
      "1/1 [==============================] - 0s 12ms/step\n",
      "問題：為什麼訊息發不出去？\n",
      "預測結果：IM 問題\n",
      "每種標籤預測機率：\n",
      "  IM 問題 :0.95102\n",
      "  EC 問題 :0.04507\n",
      "  物流問題 :0.00391\n",
      "\n",
      "1/1 [==============================] - 0s 13ms/step\n",
      "問題：這個特價的商品還有嗎？\n",
      "預測結果：EC 問題\n",
      "每種標籤預測機率：\n",
      "  IM 問題 :0.10046\n",
      "  EC 問題 :0.88208\n",
      "  物流問題 :0.01747\n",
      "\n"
     ]
    }
   ],
   "source": [
    "model_predict(\"我買的商品什麼時候會送到？\")\n",
    "model_predict(\"為什麼訊息發不出去？\")\n",
    "model_predict(\"這個特價的商品還有嗎？\")"
   ]
  }
 ],
 "metadata": {
  "kernelspec": {
   "display_name": "Python 3",
   "language": "python",
   "name": "python3"
  },
  "language_info": {
   "codemirror_mode": {
    "name": "ipython",
    "version": 3
   },
   "file_extension": ".py",
   "mimetype": "text/x-python",
   "name": "python",
   "nbconvert_exporter": "python",
   "pygments_lexer": "ipython3",
   "version": "3.4.4"
  }
 },
 "nbformat": 4,
 "nbformat_minor": 2
}
