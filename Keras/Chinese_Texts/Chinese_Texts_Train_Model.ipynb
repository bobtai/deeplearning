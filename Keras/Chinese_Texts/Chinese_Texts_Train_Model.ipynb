{
 "cells": [
  {
   "cell_type": "code",
   "execution_count": 1,
   "metadata": {},
   "outputs": [],
   "source": [
    "# 訊息辨識模型 - 建立和訓練模型"
   ]
  },
  {
   "cell_type": "code",
   "execution_count": 2,
   "metadata": {},
   "outputs": [
    {
     "name": "stderr",
     "output_type": "stream",
     "text": [
      "Using TensorFlow backend.\n"
     ]
    }
   ],
   "source": [
    "# 執行資料前處理\n",
    "%run 'Chinese_Texts_Data_Preprocessing.ipynb'"
   ]
  },
  {
   "cell_type": "code",
   "execution_count": 3,
   "metadata": {},
   "outputs": [],
   "source": [
    "# 建立模型\n",
    "from keras.models import Sequential, load_model\n",
    "from keras.callbacks import ModelCheckpoint\n",
    "from keras.layers.core import Dense, Dropout, Activation, Flatten\n",
    "from keras.layers.embeddings import Embedding\n",
    "from keras.layers.recurrent import SimpleRNN, LSTM\n",
    "\n",
    "model = Sequential()\n",
    "model.add(Embedding(output_dim=16, # 將數字list轉為32維度的向量\n",
    "                    input_dim=800, # 之前建立的字典為800字\n",
    "                    input_length=20)) # 每一筆資料固定長度為20\n",
    "model.add(Dropout(0.20))\n",
    "#model.add(Flatten()) # MLP Model\n",
    "#model.add(SimpleRNN(units=16)) # RNN Model：有16個神經元\n",
    "model.add(LSTM(units=16)) # LSTM Model：有32個神經元\n",
    "model.add(Dropout(0.20))\n",
    "model.add(Dense(units=256, # 隱藏層神經元數\n",
    "                activation='relu'))\n",
    "model.add(Dropout(0.20))\n",
    "model.add(Dense(units = 3, # 輸出層神經元數\n",
    "                kernel_initializer = 'normal',\n",
    "                activation = 'softmax'))\n",
    "model.compile(loss='binary_crossentropy', # loss function\n",
    "              optimizer='adam', # optimizer\n",
    "              metrics=['accuracy']) # other evaluation"
   ]
  },
  {
   "cell_type": "code",
   "execution_count": 4,
   "metadata": {},
   "outputs": [],
   "source": [
    "# 儲存準確度最高的模型\n",
    "model_path = \"/Users/PChomeIM/pywork/SaveModel/Text_LSTM_Model.h5\"\n",
    "checkpoint = ModelCheckpoint(model_path, monitor='val_acc', verbose=1, save_best_only=True, mode='max')\n",
    "callbacks_list = [checkpoint]"
   ]
  },
  {
   "cell_type": "code",
   "execution_count": 5,
   "metadata": {},
   "outputs": [
    {
     "name": "stdout",
     "output_type": "stream",
     "text": [
      "Epoch 00001: val_acc improved from -inf to 0.66908, saving model to /Users/PChomeIM/pywork/SaveModel/Text_LSTM_Model.h5\n",
      "Epoch 00002: val_acc improved from 0.66908 to 0.77028, saving model to /Users/PChomeIM/pywork/SaveModel/Text_LSTM_Model.h5\n",
      "Epoch 00003: val_acc improved from 0.77028 to 0.81205, saving model to /Users/PChomeIM/pywork/SaveModel/Text_LSTM_Model.h5\n",
      "Epoch 00004: val_acc improved from 0.81205 to 0.82892, saving model to /Users/PChomeIM/pywork/SaveModel/Text_LSTM_Model.h5\n",
      "Epoch 00005: val_acc improved from 0.82892 to 0.84819, saving model to /Users/PChomeIM/pywork/SaveModel/Text_LSTM_Model.h5\n",
      "Epoch 00006: val_acc did not improve\n",
      "Epoch 00007: val_acc did not improve\n",
      "Epoch 00008: val_acc improved from 0.84819 to 0.85060, saving model to /Users/PChomeIM/pywork/SaveModel/Text_LSTM_Model.h5\n",
      "Epoch 00009: val_acc did not improve\n",
      "Epoch 00010: val_acc did not improve\n"
     ]
    }
   ],
   "source": [
    "# 訓練模型\n",
    "train_history = model.fit(train_features, train_labels, batch_size=30,\n",
    "                          epochs=10, validation_split=0.2, shuffle=True, \n",
    "                          verbose=0, callbacks=callbacks_list)"
   ]
  },
  {
   "cell_type": "code",
   "execution_count": 6,
   "metadata": {},
   "outputs": [],
   "source": [
    "# 載入準確度最高的模型\n",
    "best_model = load_model(model_path)"
   ]
  },
  {
   "cell_type": "code",
   "execution_count": 7,
   "metadata": {},
   "outputs": [],
   "source": [
    "# 顯示每種標籤的預測機率\n",
    "class_dic = {0:'IM 問題', 1:'EC 問題', 2:'物流問題'}\n",
    "def show_predict_prob(predict_prob):\n",
    "    for j in range(len(predict_prob[0])):\n",
    "        print(\"  \" + class_dic[j] + ' :%1.5f'%(predict_prob[0][j]))"
   ]
  },
  {
   "cell_type": "code",
   "execution_count": 8,
   "metadata": {},
   "outputs": [
    {
     "name": "stdout",
     "output_type": "stream",
     "text": [
      "1/1 [==============================] - 0s 94ms/step\n",
      "\n",
      "預測結果：物流問題\n",
      "\n",
      "每種標籤預測機率：\n",
      "  IM 問題 :0.01870\n",
      "  EC 問題 :0.06927\n",
      "  物流問題 :0.91203\n"
     ]
    }
   ],
   "source": [
    "input_text = \"我買的商品什麼時候會送到？\"\n",
    "input_seq = token.texts_to_sequences([input_text])\n",
    "pad_input_seq = sequence.pad_sequences(input_seq, maxlen=20)\n",
    "predict_result = best_model.predict_classes(pad_input_seq)\n",
    "# 預測結果\n",
    "print(\"\\n預測結果：\" + class_dic[predict_result[0]])\n",
    "print(\"\\n每種標籤預測機率：\")\n",
    "# 取得每種標籤的預測機率\n",
    "predict_prob = best_model.predict(pad_input_seq)\n",
    "show_predict_prob(predict_prob)"
   ]
  },
  {
   "cell_type": "code",
   "execution_count": null,
   "metadata": {},
   "outputs": [],
   "source": []
  }
 ],
 "metadata": {
  "kernelspec": {
   "display_name": "Python 3",
   "language": "python",
   "name": "python3"
  },
  "language_info": {
   "codemirror_mode": {
    "name": "ipython",
    "version": 3
   },
   "file_extension": ".py",
   "mimetype": "text/x-python",
   "name": "python",
   "nbconvert_exporter": "python",
   "pygments_lexer": "ipython3",
   "version": "3.4.4"
  }
 },
 "nbformat": 4,
 "nbformat_minor": 2
}
