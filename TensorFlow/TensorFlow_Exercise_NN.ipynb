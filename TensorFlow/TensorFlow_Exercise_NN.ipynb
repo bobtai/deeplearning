{
 "cells": [
  {
   "cell_type": "code",
   "execution_count": 1,
   "metadata": {
    "collapsed": true
   },
   "outputs": [],
   "source": [
    "import tensorflow as tf"
   ]
  },
  {
   "cell_type": "code",
   "execution_count": 6,
   "metadata": {
    "collapsed": true
   },
   "outputs": [],
   "source": [
    "#定義layer函數\n",
    "def layer(input_dim, output_dim, inputs, activation=None):\n",
    "    W = tf.Variable(tf.random_normal([input_dim, output_dim]))\n",
    "    b = tf.Variable(tf.random_normal([1, output_dim]))\n",
    "    XWb = tf.matmul(inputs, W) + b\n",
    "    if activation is None:\n",
    "        outputs = XWb\n",
    "    else:\n",
    "        outputs = activation(XWb)\n",
    "    return outputs"
   ]
  },
  {
   "cell_type": "code",
   "execution_count": 7,
   "metadata": {
    "collapsed": true
   },
   "outputs": [],
   "source": [
    "import numpy as np"
   ]
  },
  {
   "cell_type": "code",
   "execution_count": 8,
   "metadata": {
    "collapsed": true
   },
   "outputs": [],
   "source": [
    "#建立3層類神經網路\n",
    "#輸入層(x)有4個神經元\n",
    "#隱藏層(h)有3個神經元\n",
    "#輸出層(y)有2個神經元\n",
    "x = tf.placeholder('float', [None, 4])\n",
    "h = layer(input_dim=4, output_dim=3, inputs=x, activation=tf.nn.relu)\n",
    "y = layer(input_dim=3, output_dim=2, inputs=h)"
   ]
  },
  {
   "cell_type": "code",
   "execution_count": 9,
   "metadata": {},
   "outputs": [
    {
     "name": "stdout",
     "output_type": "stream",
     "text": [
      "input layer =\n",
      " [[ 0.40000001  0.2         0.40000001  0.5       ]]\n",
      "hidden layer =\n",
      " [[ 0.          0.11573383  0.        ]]\n",
      "output layer =\n",
      " [[ 1.64519966 -2.31141758]]\n"
     ]
    }
   ],
   "source": [
    "with tf.Session() as sess:\n",
    "    init = tf.global_variables_initializer()\n",
    "    sess.run(init)\n",
    "    x_array = np.array([[0.4,0.2,0.4,0.5]])\n",
    "    (_x,_h,_y) = sess.run((x,h,y), feed_dict={x:x_array})\n",
    "    print('input layer =\\n', _x)\n",
    "    print('hidden layer =\\n', _h)\n",
    "    print('output layer =\\n', _y)"
   ]
  },
  {
   "cell_type": "code",
   "execution_count": null,
   "metadata": {
    "collapsed": true
   },
   "outputs": [],
   "source": []
  }
 ],
 "metadata": {
  "kernelspec": {
   "display_name": "Python 3",
   "language": "python",
   "name": "python3"
  },
  "language_info": {
   "codemirror_mode": {
    "name": "ipython",
    "version": 3
   },
   "file_extension": ".py",
   "mimetype": "text/x-python",
   "name": "python",
   "nbconvert_exporter": "python",
   "pygments_lexer": "ipython3",
   "version": "3.6.1"
  }
 },
 "nbformat": 4,
 "nbformat_minor": 2
}
