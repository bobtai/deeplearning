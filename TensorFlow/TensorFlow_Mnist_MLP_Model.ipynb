{
 "cells": [
  {
   "cell_type": "code",
   "execution_count": 1,
   "metadata": {
    "collapsed": true
   },
   "outputs": [],
   "source": [
    "import tensorflow as tf\n",
    "import tensorflow.examples.tutorials.mnist.input_data as input_data"
   ]
  },
  {
   "cell_type": "code",
   "execution_count": 2,
   "metadata": {},
   "outputs": [
    {
     "name": "stdout",
     "output_type": "stream",
     "text": [
      "Extracting MnistDataSet/train-images-idx3-ubyte.gz\n",
      "Extracting MnistDataSet/train-labels-idx1-ubyte.gz\n",
      "Extracting MnistDataSet/t10k-images-idx3-ubyte.gz\n",
      "Extracting MnistDataSet/t10k-labels-idx1-ubyte.gz\n"
     ]
    }
   ],
   "source": [
    "mnist = input_data.read_data_sets('MnistDataSet', one_hot=True)"
   ]
  },
  {
   "cell_type": "code",
   "execution_count": 3,
   "metadata": {},
   "outputs": [
    {
     "name": "stdout",
     "output_type": "stream",
     "text": [
      "train images     : (55000, 784) labels: (55000, 10)\n",
      "validation images: (5000, 784)  labels: (5000, 10)\n",
      "test images      : (10000, 784) labels: (10000, 10)\n"
     ]
    }
   ],
   "source": [
    "print('train images     :', mnist.train.images.shape, 'labels:', mnist.train.labels.shape)\n",
    "print('validation images:', mnist.validation.images.shape, ' labels:', mnist.validation.labels.shape)\n",
    "print('test images      :', mnist.test.images.shape, 'labels:', mnist.test.labels.shape)"
   ]
  },
  {
   "cell_type": "code",
   "execution_count": 4,
   "metadata": {
    "collapsed": true
   },
   "outputs": [],
   "source": [
    "def layer(input_dim, output_dim, inputs, activation=None):\n",
    "    W = tf.Variable(tf.random_normal([input_dim, output_dim]))\n",
    "    b = tf.Variable(tf.random_normal([1, output_dim]))\n",
    "    XWb = tf.matmul(inputs, W) + b\n",
    "    if activation is None:\n",
    "        outputs = XWb\n",
    "    else:\n",
    "        outputs = activation(XWb)\n",
    "    return outputs"
   ]
  },
  {
   "cell_type": "code",
   "execution_count": 5,
   "metadata": {
    "collapsed": true
   },
   "outputs": [],
   "source": [
    "#輸入層\n",
    "x = tf.placeholder('float', [None, 784])"
   ]
  },
  {
   "cell_type": "code",
   "execution_count": 6,
   "metadata": {
    "collapsed": true
   },
   "outputs": [],
   "source": [
    "#隱藏層\n",
    "h = layer(input_dim=784, output_dim=256, inputs=x, activation=tf.nn.relu)"
   ]
  },
  {
   "cell_type": "code",
   "execution_count": 7,
   "metadata": {
    "collapsed": true
   },
   "outputs": [],
   "source": [
    "#輸出層\n",
    "y_predict = layer(input_dim=256, output_dim=10, inputs=h, activation=None)"
   ]
  },
  {
   "cell_type": "code",
   "execution_count": 8,
   "metadata": {
    "collapsed": true
   },
   "outputs": [],
   "source": [
    "#真實輸出值\n",
    "y_label = tf.placeholder('float', [None, 10])"
   ]
  },
  {
   "cell_type": "code",
   "execution_count": 9,
   "metadata": {
    "collapsed": true
   },
   "outputs": [],
   "source": [
    "#損失函數(loss function)，計算預測值與真實值之間的差異。\n",
    "loss_function = tf.reduce_mean(tf.nn.softmax_cross_entropy_with_logits(logits=y_predict, labels=y_label))"
   ]
  },
  {
   "cell_type": "code",
   "execution_count": 10,
   "metadata": {
    "collapsed": true
   },
   "outputs": [],
   "source": [
    "#最優化方法(optimizer)\n",
    "optimizer = tf.train.AdamOptimizer(learning_rate=0.001).minimize(loss_function)"
   ]
  },
  {
   "cell_type": "code",
   "execution_count": 14,
   "metadata": {},
   "outputs": [],
   "source": [
    "#計算每一筆資料是否預測正確，回傳一個預測陣列，正確傳回1，錯誤傳回0\n",
    "correct_prediction = tf.equal(tf.arg_max(y_label, 1), tf.arg_max(y_predict, 1))"
   ]
  },
  {
   "cell_type": "code",
   "execution_count": 15,
   "metadata": {
    "collapsed": true
   },
   "outputs": [],
   "source": [
    "#計算準確率\n",
    "accuracy = tf.reduce_mean(tf.cast(correct_prediction, 'float'))"
   ]
  },
  {
   "cell_type": "code",
   "execution_count": 16,
   "metadata": {
    "collapsed": true
   },
   "outputs": [],
   "source": [
    "#訓練參數\n",
    "trainEpochs = 15\n",
    "batchSize = 100\n",
    "totalBatchs = int(mnist.train.num_examples / batchSize)\n",
    "epoch_list = []; loss_list = []; accuracy_list = [];\n",
    "from time import time\n",
    "startTime = time()\n",
    "sess = tf.Session()\n",
    "sess.run(tf.global_variables_initializer())"
   ]
  },
  {
   "cell_type": "code",
   "execution_count": 17,
   "metadata": {},
   "outputs": [
    {
     "name": "stdout",
     "output_type": "stream",
     "text": [
      "Train Epoch: 01 Loss: 5.672605038 Accuracy: 0.8496\n",
      "Train Epoch: 02 Loss: 3.624946833 Accuracy: 0.8978\n",
      "Train Epoch: 03 Loss: 2.795418262 Accuracy: 0.9126\n",
      "Train Epoch: 04 Loss: 2.346603155 Accuracy: 0.9188\n",
      "Train Epoch: 05 Loss: 2.049530268 Accuracy: 0.9282\n",
      "Train Epoch: 06 Loss: 1.854862452 Accuracy: 0.9332\n",
      "Train Epoch: 07 Loss: 1.666495323 Accuracy: 0.9368\n",
      "Train Epoch: 08 Loss: 1.541820884 Accuracy: 0.9418\n",
      "Train Epoch: 09 Loss: 1.496462584 Accuracy: 0.9424\n",
      "Train Epoch: 10 Loss: 1.419491768 Accuracy: 0.9424\n",
      "Train Epoch: 11 Loss: 1.382583737 Accuracy: 0.9452\n",
      "Train Epoch: 12 Loss: 1.332402349 Accuracy: 0.9466\n",
      "Train Epoch: 13 Loss: 1.274574041 Accuracy: 0.949\n",
      "Train Epoch: 14 Loss: 1.286629319 Accuracy: 0.949\n",
      "Train Epoch: 15 Loss: 1.247757435 Accuracy: 0.9516\n",
      "Train Finished Takes: 1097.058086156845\n"
     ]
    }
   ],
   "source": [
    "for epoch in range(trainEpochs):\n",
    "    for i in range(totalBatchs):\n",
    "        batch_x, batch_y = mnist.train.next_batch(batchSize)\n",
    "        sess.run(optimizer, feed_dict={x:batch_x, y_label:batch_y})\n",
    "        \n",
    "    loss, acc = sess.run([loss_function, accuracy], \n",
    "                         feed_dict={x:mnist.validation.images, y_label:mnist.validation.labels})\n",
    "    \n",
    "    epoch_list.append(epoch)\n",
    "    loss_list.append(loss)\n",
    "    accuracy_list.append(acc)\n",
    "    \n",
    "    print('Train Epoch:', '%02d'%(epoch+1), 'Loss:', '{:.9f}'.format(loss), 'Accuracy:', acc)\n",
    "\n",
    "print('Train Finished Takes:', time() - startTime)"
   ]
  },
  {
   "cell_type": "code",
   "execution_count": 18,
   "metadata": {
    "collapsed": true
   },
   "outputs": [],
   "source": [
    "%matplotlib inline\n",
    "import matplotlib.pyplot as plt"
   ]
  },
  {
   "cell_type": "code",
   "execution_count": 30,
   "metadata": {},
   "outputs": [
    {
     "data": {
      "image/png": "[encoded data removed]",
      "text/plain": [
       "<matplotlib.figure.Figure at 0x1321ac470>"
      ]
     },
     "metadata": {},
     "output_type": "display_data"
    }
   ],
   "source": [
    "fig = plt.gcf()\n",
    "fig.set_size_inches(4, 2)\n",
    "plt.plot(epoch_list, loss_list, label='loss')\n",
    "plt.xlabel('epoch')\n",
    "plt.ylabel('loss')\n",
    "plt.legend(['loss'], loc='upper left')\n",
    "plt.show()"
   ]
  },
  {
   "cell_type": "code",
   "execution_count": 29,
   "metadata": {},
   "outputs": [
    {
     "data": {
      "image/png": "[encoded data removed]",
      "text/plain": [
       "<matplotlib.figure.Figure at 0x12f911eb8>"
      ]
     },
     "metadata": {},
     "output_type": "display_data"
    }
   ],
   "source": [
    "fig = plt.gcf()\n",
    "fig.set_size_inches(4, 2)\n",
    "plt.plot(epoch_list, accuracy_list, label='accuracy')\n",
    "plt.xlabel('epoch')\n",
    "plt.ylabel('accuracy')\n",
    "plt.ylim(0.8, 1)\n",
    "plt.legend()\n",
    "plt.show()"
   ]
  },
  {
   "cell_type": "code",
   "execution_count": 31,
   "metadata": {},
   "outputs": [
    {
     "name": "stdout",
     "output_type": "stream",
     "text": [
      "Accuracy: 0.9493\n"
     ]
    }
   ],
   "source": [
    "#使用測試資料，評估模型準確率\n",
    "print('Accuracy:', sess.run(accuracy, feed_dict={x:mnist.test.images, \n",
    "                                                 y_label:mnist.test.labels}))"
   ]
  },
  {
   "cell_type": "code",
   "execution_count": null,
   "metadata": {
    "collapsed": true
   },
   "outputs": [],
   "source": []
  }
 ],
 "metadata": {
  "kernelspec": {
   "display_name": "Python 3",
   "language": "python",
   "name": "python3"
  },
  "language_info": {
   "codemirror_mode": {
    "name": "ipython",
    "version": 3
   },
   "file_extension": ".py",
   "mimetype": "text/x-python",
   "name": "python",
   "nbconvert_exporter": "python",
   "pygments_lexer": "ipython3",
   "version": "3.6.1"
  }
 },
 "nbformat": 4,
 "nbformat_minor": 2
}
