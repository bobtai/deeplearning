{
 "cells": [
  {
   "cell_type": "code",
   "execution_count": 44,
   "metadata": {
    "collapsed": true
   },
   "outputs": [],
   "source": [
    "import tensorflow as tf\n",
    "import matplotlib.pyplot as plt\n",
    "import numpy as np"
   ]
  },
  {
   "cell_type": "code",
   "execution_count": 45,
   "metadata": {
    "collapsed": true
   },
   "outputs": [],
   "source": [
    "def plot_images(images, offset, length):\n",
    "    fig = plt.gcf()\n",
    "    fig.set_size_inches(12, 14)\n",
    "    if length > 10: length = 10\n",
    "    for i in range(0, length):\n",
    "        ax = plt.subplot(2, 5, 1+i)\n",
    "        ax.imshow(images[offset], cmap='binary')\n",
    "        \n",
    "        ax.set_xticks([]);\n",
    "        ax.set_yticks([]);\n",
    "        offset += 1\n",
    "    plt.show()"
   ]
  },
  {
   "cell_type": "code",
   "execution_count": 46,
   "metadata": {
    "collapsed": true
   },
   "outputs": [],
   "source": [
    "# Read all images in list.\n",
    "handwrite0 = '/Users/PChomeIM/uploads/0.png'\n",
    "handwrite1 = '/Users/PChomeIM/uploads/1.png'\n",
    "handwrite3 = '/Users/PChomeIM/uploads/3.png'\n",
    "handwrite_images = [handwrite0, handwrite1, handwrite3]\n",
    "\n",
    "# https://www.tensorflow.org/api_docs/python/tf/train/string_input_producer\n",
    "# Make a queue of file names including all the images \n",
    "# default shuffle = True, If true, the strings are randomly shuffled within each epoch.\n",
    "filename_queue = tf.train.string_input_producer(handwrite_images, shuffle=False)\n",
    "\n",
    "# https://www.tensorflow.org/api_docs/python/tf/WholeFileReader\n",
    "# To use, enqueue filenames in a Queue. \n",
    "# The output of Read will be a filename (key) and the contents of that file (value).\n",
    "reader = tf.WholeFileReader()\n",
    "# reader.read: Returns the next record (key, value pair) produced by a reader.\n",
    "key, value = reader.read(filename_queue)\n",
    "\n",
    "# https://www.tensorflow.org/versions/r0.12/api_docs/python/image/encoding_and_decoding\n",
    "# The encode and decode Ops apply to one image at a time.\n",
    "# If you need fixed size images, pass the output of the decode Ops to one of the cropping and resizing Ops.\n",
    "# channels=1: output a grayscale image.\n",
    "# channels=3: output an RGB image.\n",
    "myimg = tf.image.decode_png(value, channels=1)\n",
    "crop_myimg = tf.image.resize_image_with_crop_or_pad(myimg, 135, 135) #置中裁減\n",
    "resize_myimg = tf.image.resize_images(crop_myimg, [28, 28]) #調整大小"
   ]
  },
  {
   "cell_type": "code",
   "execution_count": 47,
   "metadata": {},
   "outputs": [
    {
     "name": "stdout",
     "output_type": "stream",
     "text": [
      "(3, 28, 28)\n"
     ]
    }
   ],
   "source": [
    "# The TensorFlow Session object is multithreaded and thread-safe, \n",
    "# so multiple threads can easily use the same session and run ops in parallel.\n",
    "with tf.Session() as sess:\n",
    "    # Return an Op that initializes global variables in the graph.\n",
    "    init = tf.global_variables_initializer()\n",
    "    sess.run(init)\n",
    "    \n",
    "    # http://www.jianshu.com/p/d063804fb272\n",
    "    # https://www.tensorflow.org/programmers_guide/threading_and_queues\n",
    "    # The Coordinator class helps multiple threads stop together and report exceptions to a program that waits for them to stop. \n",
    "    # The QueueRunner class is used to create a number of threads cooperating to enqueue tensors in the same queue.\n",
    "    # These two classes are designed to be used together. \n",
    "    coord = tf.train.Coordinator()\n",
    "    threads = tf.train.start_queue_runners(coord=coord)\n",
    "    \n",
    "    # Collect all images tensor\n",
    "    all_images = []\n",
    "    \n",
    "    # Main thread, consumes all job.\n",
    "    for i in range(len(handwrite_images)):\n",
    "        '''\n",
    "        The difference is in Operations and Tensors. \n",
    "        Operations use run() and Tensors use eval().\n",
    "        In this example, resize_myimg is a tensor.\n",
    "        And tensor.eval() is equivalent to sess.run(tensor).\n",
    "        ''' \n",
    "        image = resize_myimg.eval() # is equivalent to sess.run(resize_myimg)\n",
    "        reshape_image = image.reshape(image.shape[0], image.shape[1])\n",
    "        abs_image = abs(255-reshape_image)\n",
    "        all_images.append(abs_image)\n",
    "        #print(abs_image.shape)\n",
    "        #print(abs_image)\n",
    "        \n",
    "    # Convert list to numpy array format\n",
    "    all_images = np.array(all_images, dtype=np.int16)\n",
    "    print(all_images.shape)\n",
    "    \n",
    "    # Save train data to binary format\n",
    "    all_images.tofile('train.dat')\n",
    "\n",
    "    # When done, ask the threads to stop.\n",
    "    coord.request_stop()\n",
    "    # And wait for threads actually stop.\n",
    "    coord.join(threads)"
   ]
  },
  {
   "cell_type": "code",
   "execution_count": 48,
   "metadata": {},
   "outputs": [
    {
     "data": {
      "image/png": "[encoded data removed]",
      "text/plain": [
       "<matplotlib.figure.Figure at 0x1250fe5c0>"
      ]
     },
     "metadata": {},
     "output_type": "display_data"
    }
   ],
   "source": [
    "plot_images(all_images, 0, all_images.shape[0])"
   ]
  },
  {
   "cell_type": "code",
   "execution_count": null,
   "metadata": {
    "collapsed": true
   },
   "outputs": [],
   "source": []
  }
 ],
 "metadata": {
  "kernelspec": {
   "display_name": "Python 3",
   "language": "python",
   "name": "python3"
  },
  "language_info": {
   "codemirror_mode": {
    "name": "ipython",
    "version": 3
   },
   "file_extension": ".py",
   "mimetype": "text/x-python",
   "name": "python",
   "nbconvert_exporter": "python",
   "pygments_lexer": "ipython3",
   "version": "3.6.1"
  }
 },
 "nbformat": 4,
 "nbformat_minor": 2
}
