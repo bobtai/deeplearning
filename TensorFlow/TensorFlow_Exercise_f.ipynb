{
 "cells": [
  {
   "cell_type": "code",
   "execution_count": 1,
   "metadata": {
    "collapsed": true
   },
   "outputs": [],
   "source": [
    "import tensorflow as tf"
   ]
  },
  {
   "cell_type": "code",
   "execution_count": 2,
   "metadata": {
    "collapsed": true
   },
   "outputs": [],
   "source": [
    "ts_c = tf.constant(5)\n",
    "ts_v = tf.Variable(ts_c + 3)"
   ]
  },
  {
   "cell_type": "code",
   "execution_count": 3,
   "metadata": {},
   "outputs": [
    {
     "name": "stdout",
     "output_type": "stream",
     "text": [
      "ts_c = 5\n",
      "ts_v = 8\n"
     ]
    }
   ],
   "source": [
    "with tf.Session() as sess:\n",
    "    init = tf.global_variables_initializer()\n",
    "    sess.run(init)\n",
    "    (_ts_c, _ts_v) = sess.run((ts_c, ts_v))\n",
    "    print('ts_c =', _ts_c)\n",
    "    print('ts_v =', _ts_v)"
   ]
  },
  {
   "cell_type": "code",
   "execution_count": 4,
   "metadata": {
    "collapsed": true
   },
   "outputs": [],
   "source": [
    "w = tf.placeholder('int32')\n",
    "h = tf.placeholder('int32')\n",
    "a = tf.multiply(w, h)"
   ]
  },
  {
   "cell_type": "code",
   "execution_count": 5,
   "metadata": {},
   "outputs": [
    {
     "name": "stdout",
     "output_type": "stream",
     "text": [
      "a = 15\n"
     ]
    }
   ],
   "source": [
    "with tf.Session() as sess:\n",
    "    init = tf.global_variables_initializer()\n",
    "    sess.run(init)\n",
    "    print('a =', sess.run(a, feed_dict={w:3, h:5}))"
   ]
  },
  {
   "cell_type": "code",
   "execution_count": 6,
   "metadata": {
    "collapsed": true
   },
   "outputs": [],
   "source": [
    "X = tf.random_normal([1, 3])\n",
    "W = tf.random_normal([3, 2])\n",
    "b = tf.random_normal([1, 2])\n",
    "XWb = tf.matmul(X, W) + b\n",
    "Y = tf.nn.relu(XWb)"
   ]
  },
  {
   "cell_type": "code",
   "execution_count": 7,
   "metadata": {
    "collapsed": true
   },
   "outputs": [],
   "source": [
    "with tf.Session() as sess:\n",
    "    init = tf.global_variables_initializer()\n",
    "    sess.run(init)\n",
    "    (_X, _W, _b, _XWb, _Y) = sess.run((X, W, b, XWb, Y))"
   ]
  },
  {
   "cell_type": "code",
   "execution_count": 8,
   "metadata": {},
   "outputs": [
    {
     "name": "stdout",
     "output_type": "stream",
     "text": [
      "X = [[-0.57059121  0.34198043 -0.16985145]]\n",
      "W = [[-1.7001797   1.16732681]\n",
      " [ 1.40278971 -0.50673515]\n",
      " [-1.25158298 -1.09000349]]\n",
      "b = [[ 0.1025308  0.8933506]]\n",
      "XWb = [[ 1.76494825  0.23912942]]\n",
      "Y = [[ 1.76494825  0.23912942]]\n"
     ]
    }
   ],
   "source": [
    "print('X =', _X)\n",
    "print('W =', _W)\n",
    "print('b =', _b)\n",
    "print('XWb =', _XWb)\n",
    "print('Y =', _Y)"
   ]
  },
  {
   "cell_type": "code",
   "execution_count": 34,
   "metadata": {},
   "outputs": [],
   "source": [
    "#定義nn's layer函數\n",
    "def layer(input_dim, output_dim, inputs, activation=None):\n",
    "    W = tf.Variable(tf.random_normal([input_dim, output_dim]))\n",
    "    b = tf.Variable(tf.random_normal([1, output_dim]))\n",
    "    XWb = tf.matmul(inputs, W) + b\n",
    "    if activation is None:\n",
    "        return XWb\n",
    "    else:\n",
    "        return activation(XWb)"
   ]
  },
  {
   "cell_type": "code",
   "execution_count": 35,
   "metadata": {},
   "outputs": [],
   "source": [
    "#建立3層類神經網路\n",
    "#輸入層(x)有3個神經元\n",
    "#隱藏層(h)有2個神經元\n",
    "#輸出層(y)有1個神經元\n",
    "x = tf.placeholder('float', [None, 3])\n",
    "h = layer(input_dim=3, output_dim=2, inputs=x, activation=tf.nn.relu)\n",
    "o = layer(input_dim=2, output_dim=1, inputs=h)"
   ]
  },
  {
   "cell_type": "code",
   "execution_count": 40,
   "metadata": {},
   "outputs": [],
   "source": [
    "with tf.Session() as sess:\n",
    "    init = tf.global_variables_initializer()\n",
    "    sess.run(init)\n",
    "    x_arr = [[0.3, 0.2, 0.5]]\n",
    "    (_x, _h, _o) = sess.run((x, h, o), feed_dict={x:x_arr})"
   ]
  },
  {
   "cell_type": "code",
   "execution_count": 42,
   "metadata": {},
   "outputs": [
    {
     "name": "stdout",
     "output_type": "stream",
     "text": [
      "x = [[ 0.30000001  0.2         0.5       ]]\n",
      "h = [[ 0.          0.29580721]]\n",
      "o = [[-0.07832237]]\n"
     ]
    }
   ],
   "source": [
    "print('x =', _x)\n",
    "print('h =', _h)\n",
    "print('o =', _o)"
   ]
  },
  {
   "cell_type": "code",
   "execution_count": null,
   "metadata": {
    "collapsed": true
   },
   "outputs": [],
   "source": []
  }
 ],
 "metadata": {
  "kernelspec": {
   "display_name": "Python 3",
   "language": "python",
   "name": "python3"
  },
  "language_info": {
   "codemirror_mode": {
    "name": "ipython",
    "version": 3
   },
   "file_extension": ".py",
   "mimetype": "text/x-python",
   "name": "python",
   "nbconvert_exporter": "python",
   "pygments_lexer": "ipython3",
   "version": "3.6.1"
  }
 },
 "nbformat": 4,
 "nbformat_minor": 2
}
