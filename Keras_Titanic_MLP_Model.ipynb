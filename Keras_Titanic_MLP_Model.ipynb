{
 "cells": [
  {
   "cell_type": "code",
   "execution_count": 1,
   "metadata": {
    "collapsed": true
   },
   "outputs": [],
   "source": [
    "import numpy\n",
    "import pandas as pd\n",
    "from sklearn import preprocessing\n",
    "numpy.random.seed(10)"
   ]
  },
  {
   "cell_type": "code",
   "execution_count": 2,
   "metadata": {
    "collapsed": true
   },
   "outputs": [],
   "source": [
    "#讀取excel資料集\n",
    "filepath = \"/Users/PChomeIM/pywork/Dataset/titanic3.xls\"\n",
    "all_df = pd.read_excel(filepath)"
   ]
  },
  {
   "cell_type": "code",
   "execution_count": 3,
   "metadata": {
    "collapsed": true
   },
   "outputs": [],
   "source": [
    "#挑選有意義的欄位\n",
    "cols = [\"survived\", \"name\", \"pclass\", \"sex\", \"age\", \"sibsp\", \"parch\", \"fare\", \"embarked\"]\n",
    "all_df = all_df[cols]"
   ]
  },
  {
   "cell_type": "code",
   "execution_count": 4,
   "metadata": {
    "collapsed": true
   },
   "outputs": [],
   "source": [
    "#資料預處理\n",
    "def PreprocessData(raw_df):\n",
    "    #訓練時，暫時不需要name欄位\n",
    "    df = raw_df.drop(['name'], axis=1)\n",
    "    #將age欄位的null值填上平均值\n",
    "    age_mean = df['age'].mean()\n",
    "    df['age'] = df['age'].fillna(age_mean)\n",
    "    #將fare欄位的null值填上平均值\n",
    "    fare_mean = df['fare'].mean()\n",
    "    df['fare'] = df['fare'].fillna(fare_mean)\n",
    "    #轉換sex欄位為0和1\n",
    "    df['sex'] = df['sex'].map({'female':0, 'male':1}).astype(int)\n",
    "    #將embarked欄位轉成onehot表示\n",
    "    onehot_df = pd.get_dummies(data=df, columns=['embarked'])\n",
    "    \n",
    "    #將df轉換成array\n",
    "    ndarray = onehot_df.values\n",
    "    features = ndarray[:,1:] #取第1欄以後的欄位作為features\n",
    "    label = ndarray[:,0]     #取第0欄survived作為label\n",
    "    \n",
    "    #將特徵的值進行標準化\n",
    "    minmax_scale = preprocessing.MinMaxScaler(feature_range=(0,1))\n",
    "    features = minmax_scale.fit_transform(features)\n",
    "    \n",
    "    return features, label"
   ]
  },
  {
   "cell_type": "code",
   "execution_count": 5,
   "metadata": {
    "collapsed": true
   },
   "outputs": [],
   "source": [
    "#將資料分訓練集和測試集\n",
    "msk = numpy.random.rand(len(all_df)) < 0.8\n",
    "train_df = all_df[msk]\n",
    "test_df = all_df[~msk]"
   ]
  },
  {
   "cell_type": "code",
   "execution_count": 6,
   "metadata": {},
   "outputs": [
    {
     "name": "stdout",
     "output_type": "stream",
     "text": [
      "total: 1309 train: 1034 test: 275\n"
     ]
    }
   ],
   "source": [
    "print('total:', len(all_df),\n",
    "      'train:', len(train_df),\n",
    "      'test:', len(test_df))"
   ]
  },
  {
   "cell_type": "code",
   "execution_count": 7,
   "metadata": {
    "collapsed": true
   },
   "outputs": [],
   "source": [
    "train_feature, train_label = PreprocessData(train_df)\n",
    "test_feature, test_label = PreprocessData(test_df)"
   ]
  },
  {
   "cell_type": "code",
   "execution_count": 8,
   "metadata": {},
   "outputs": [
    {
     "name": "stderr",
     "output_type": "stream",
     "text": [
      "Using TensorFlow backend.\n"
     ]
    }
   ],
   "source": [
    "from keras.models import Sequential\n",
    "from keras.layers import Dense, Dropout"
   ]
  },
  {
   "cell_type": "code",
   "execution_count": 9,
   "metadata": {
    "collapsed": true
   },
   "outputs": [],
   "source": [
    "#建立一個線性堆疊模型\n",
    "model = Sequential()"
   ]
  },
  {
   "cell_type": "code",
   "execution_count": 10,
   "metadata": {
    "collapsed": true
   },
   "outputs": [],
   "source": [
    "#建立輸入層和第1層隱藏層\n",
    "model.add(Dense(units=40,input_dim=9,\n",
    "                kernel_initializer='uniform',\n",
    "                activation='relu'))"
   ]
  },
  {
   "cell_type": "code",
   "execution_count": 11,
   "metadata": {
    "collapsed": true
   },
   "outputs": [],
   "source": [
    "#建立第2層隱藏層\n",
    "model.add(Dense(units=30,\n",
    "                kernel_initializer='uniform',\n",
    "                activation='relu'))"
   ]
  },
  {
   "cell_type": "code",
   "execution_count": 12,
   "metadata": {
    "collapsed": true
   },
   "outputs": [],
   "source": [
    "#建立輸出層\n",
    "model.add(Dense(units=1,\n",
    "                kernel_initializer='uniform',\n",
    "                activation='sigmoid'))"
   ]
  },
  {
   "cell_type": "code",
   "execution_count": 13,
   "metadata": {
    "collapsed": true
   },
   "outputs": [],
   "source": [
    "#定義訓練方式\n",
    "model.compile(loss='binary_crossentropy',\n",
    "              optimizer='adam', metrics=['accuracy'])"
   ]
  },
  {
   "cell_type": "code",
   "execution_count": 14,
   "metadata": {},
   "outputs": [
    {
     "name": "stdout",
     "output_type": "stream",
     "text": [
      "Train on 930 samples, validate on 104 samples\n",
      "Epoch 1/30\n",
      "0s - loss: 0.6899 - acc: 0.5774 - val_loss: 0.6704 - val_acc: 0.7885\n",
      "Epoch 2/30\n",
      "0s - loss: 0.6666 - acc: 0.6022 - val_loss: 0.5886 - val_acc: 0.7885\n",
      "Epoch 3/30\n",
      "0s - loss: 0.6062 - acc: 0.6720 - val_loss: 0.4924 - val_acc: 0.8077\n",
      "Epoch 4/30\n",
      "0s - loss: 0.5404 - acc: 0.7677 - val_loss: 0.4629 - val_acc: 0.7596\n",
      "Epoch 5/30\n",
      "0s - loss: 0.5031 - acc: 0.7624 - val_loss: 0.4538 - val_acc: 0.7885\n",
      "Epoch 6/30\n",
      "0s - loss: 0.4892 - acc: 0.7634 - val_loss: 0.4401 - val_acc: 0.7788\n",
      "Epoch 7/30\n",
      "0s - loss: 0.4811 - acc: 0.7602 - val_loss: 0.4433 - val_acc: 0.7885\n",
      "Epoch 8/30\n",
      "0s - loss: 0.4781 - acc: 0.7548 - val_loss: 0.4360 - val_acc: 0.7885\n",
      "Epoch 9/30\n",
      "0s - loss: 0.4721 - acc: 0.7645 - val_loss: 0.4283 - val_acc: 0.7788\n",
      "Epoch 10/30\n",
      "0s - loss: 0.4690 - acc: 0.7753 - val_loss: 0.4265 - val_acc: 0.8077\n",
      "Epoch 11/30\n",
      "0s - loss: 0.4651 - acc: 0.7667 - val_loss: 0.4241 - val_acc: 0.8173\n",
      "Epoch 12/30\n",
      "0s - loss: 0.4632 - acc: 0.7763 - val_loss: 0.4206 - val_acc: 0.8173\n",
      "Epoch 13/30\n",
      "0s - loss: 0.4614 - acc: 0.7763 - val_loss: 0.4211 - val_acc: 0.8365\n",
      "Epoch 14/30\n",
      "0s - loss: 0.4602 - acc: 0.7763 - val_loss: 0.4213 - val_acc: 0.8365\n",
      "Epoch 15/30\n",
      "0s - loss: 0.4622 - acc: 0.7871 - val_loss: 0.4229 - val_acc: 0.8077\n",
      "Epoch 16/30\n",
      "0s - loss: 0.4560 - acc: 0.7839 - val_loss: 0.4183 - val_acc: 0.8365\n",
      "Epoch 17/30\n",
      "0s - loss: 0.4549 - acc: 0.7882 - val_loss: 0.4201 - val_acc: 0.8365\n",
      "Epoch 18/30\n",
      "0s - loss: 0.4538 - acc: 0.7882 - val_loss: 0.4157 - val_acc: 0.7981\n",
      "Epoch 19/30\n",
      "0s - loss: 0.4535 - acc: 0.7946 - val_loss: 0.4229 - val_acc: 0.8077\n",
      "Epoch 20/30\n",
      "0s - loss: 0.4510 - acc: 0.7892 - val_loss: 0.4159 - val_acc: 0.8173\n",
      "Epoch 21/30\n",
      "0s - loss: 0.4510 - acc: 0.7925 - val_loss: 0.4166 - val_acc: 0.8077\n",
      "Epoch 22/30\n",
      "0s - loss: 0.4497 - acc: 0.7946 - val_loss: 0.4169 - val_acc: 0.8269\n",
      "Epoch 23/30\n",
      "0s - loss: 0.4528 - acc: 0.7871 - val_loss: 0.4188 - val_acc: 0.8173\n",
      "Epoch 24/30\n",
      "0s - loss: 0.4492 - acc: 0.7892 - val_loss: 0.4197 - val_acc: 0.8269\n",
      "Epoch 25/30\n",
      "0s - loss: 0.4496 - acc: 0.7914 - val_loss: 0.4230 - val_acc: 0.8269\n",
      "Epoch 26/30\n",
      "0s - loss: 0.4508 - acc: 0.7968 - val_loss: 0.4216 - val_acc: 0.8269\n",
      "Epoch 27/30\n",
      "0s - loss: 0.4466 - acc: 0.7968 - val_loss: 0.4184 - val_acc: 0.8077\n",
      "Epoch 28/30\n",
      "0s - loss: 0.4502 - acc: 0.7871 - val_loss: 0.4182 - val_acc: 0.7981\n",
      "Epoch 29/30\n",
      "0s - loss: 0.4467 - acc: 0.7946 - val_loss: 0.4209 - val_acc: 0.8269\n",
      "Epoch 30/30\n",
      "0s - loss: 0.4528 - acc: 0.7871 - val_loss: 0.4205 - val_acc: 0.8269\n"
     ]
    }
   ],
   "source": [
    "#開始訓練\n",
    "train_history = model.fit(x=train_feature,\n",
    "                          y=train_label,\n",
    "                          validation_split=0.1,\n",
    "                          epochs=30,\n",
    "                          batch_size=30,\n",
    "                          verbose=2)"
   ]
  },
  {
   "cell_type": "code",
   "execution_count": 15,
   "metadata": {},
   "outputs": [
    {
     "name": "stdout",
     "output_type": "stream",
     "text": [
      "\r",
      " 32/275 [==>...........................] - ETA: 0s"
     ]
    }
   ],
   "source": [
    "#測試模型準確度\n",
    "scores = model.evaluate(x=test_feature, y=test_label)"
   ]
  },
  {
   "cell_type": "code",
   "execution_count": 16,
   "metadata": {},
   "outputs": [
    {
     "data": {
      "text/plain": [
       "0.80363636406985195"
      ]
     },
     "execution_count": 16,
     "metadata": {},
     "output_type": "execute_result"
    }
   ],
   "source": [
    "scores[1]"
   ]
  },
  {
   "cell_type": "code",
   "execution_count": 17,
   "metadata": {
    "collapsed": true
   },
   "outputs": [],
   "source": [
    "#執行預測\n",
    "prediction = model.predict(test_feature)"
   ]
  },
  {
   "cell_type": "code",
   "execution_count": 18,
   "metadata": {},
   "outputs": [
    {
     "data": {
      "text/plain": [
       "array([[ 0.98788005],\n",
       "       [ 0.13495834],\n",
       "       [ 0.9829573 ],\n",
       "       [ 0.28999779],\n",
       "       [ 0.97594833]], dtype=float32)"
      ]
     },
     "execution_count": 18,
     "metadata": {},
     "output_type": "execute_result"
    }
   ],
   "source": [
    "prediction[:5]"
   ]
  },
  {
   "cell_type": "code",
   "execution_count": 19,
   "metadata": {
    "collapsed": true
   },
   "outputs": [],
   "source": [
    "#儲存整個模型，包含結構、權重、損失函數和最佳化方法\n",
    "model.save(\"/Users/PChomeIM/pywork/SaveModel/TitanicMLPModel.h5\")"
   ]
  },
  {
   "cell_type": "code",
   "execution_count": null,
   "metadata": {
    "collapsed": true
   },
   "outputs": [],
   "source": []
  }
 ],
 "metadata": {
  "kernelspec": {
   "display_name": "Python 3",
   "language": "python",
   "name": "python3"
  },
  "language_info": {
   "codemirror_mode": {
    "name": "ipython",
    "version": 3
   },
   "file_extension": ".py",
   "mimetype": "text/x-python",
   "name": "python",
   "nbconvert_exporter": "python",
   "pygments_lexer": "ipython3",
   "version": "3.6.1"
  }
 },
 "nbformat": 4,
 "nbformat_minor": 2
}
