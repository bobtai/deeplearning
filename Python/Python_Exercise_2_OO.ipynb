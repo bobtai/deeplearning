{
 "cells": [
  {
   "cell_type": "code",
   "execution_count": 1,
   "metadata": {
    "collapsed": true
   },
   "outputs": [],
   "source": [
    "class Account:\n",
    "    def __init__(self, id, name):\n",
    "        self.id = id\n",
    "        self.name = name\n",
    "        self.balance = 0\n",
    "        \n",
    "    def deposit(self, amount):\n",
    "        self.balance += amount\n",
    "    \n",
    "    def withdraw(self, amount):\n",
    "        if amount <= self.balance:\n",
    "            self.balance -= amount\n",
    "        else:\n",
    "            raise ValueError('餘額不足')\n",
    "\n",
    "    #重新定義該類別str()方法\n",
    "    def __str__(self):\n",
    "        return ('Id:\\t\\t' + self.id +\n",
    "               '\\nName:\\t\\t' + self.name +\n",
    "               '\\nBalance:\\t' + str(self.balance))"
   ]
  },
  {
   "cell_type": "code",
   "execution_count": 2,
   "metadata": {},
   "outputs": [
    {
     "name": "stdout",
     "output_type": "stream",
     "text": [
      "Id:\t\tA001\n",
      "Name:\t\tBob\n",
      "Balance:\t0\n"
     ]
    }
   ],
   "source": [
    "acc1 = Account('A001', 'Bob')\n",
    "print(str(acc1))"
   ]
  },
  {
   "cell_type": "code",
   "execution_count": 3,
   "metadata": {
    "collapsed": true
   },
   "outputs": [],
   "source": [
    "#信用卡帳號繼承一般帳戶\n",
    "class CreditAccount(Account):\n",
    "    def __init__(self, id, name):\n",
    "        super(CreditAccount, self).__init__(id, name) #呼叫父類別的init\n",
    "        self.overdrftlimit = 30000\n",
    "    \n",
    "    #override父類別的withdraw\n",
    "    def withdraw(self, amount):\n",
    "        if amount <= self.balance + self.overdrftlimit:\n",
    "            self.balance -= amount\n",
    "        else:\n",
    "            raise ValueError('超出信用額度')\n",
    "            \n",
    "    def __str__(self):\n",
    "        return (super(CreditAccount, self).__str__() + \n",
    "                '\\noverdrftlimit\\t' + str(self.overdrftlimit))"
   ]
  },
  {
   "cell_type": "code",
   "execution_count": 4,
   "metadata": {
    "collapsed": true
   },
   "outputs": [],
   "source": [
    "acc2 = CreditAccount('A002', 'Mary')\n",
    "acc2.deposit(10000)"
   ]
  },
  {
   "cell_type": "code",
   "execution_count": 5,
   "metadata": {},
   "outputs": [
    {
     "name": "stdout",
     "output_type": "stream",
     "text": [
      "Id:\t\tA002\n",
      "Name:\t\tMary\n",
      "Balance:\t-10000\n",
      "overdrftlimit\t30000\n"
     ]
    }
   ],
   "source": [
    "acc2.withdraw(20000)\n",
    "print(str(acc2))"
   ]
  },
  {
   "cell_type": "code",
   "execution_count": 6,
   "metadata": {
    "collapsed": true
   },
   "outputs": [],
   "source": [
    "class A():\n",
    "    def method1(self):\n",
    "        print('A.method1')\n",
    "    def method2(self):\n",
    "        print('A.method2')\n",
    "\n",
    "class B(A):\n",
    "    def method3(self):\n",
    "        print('B.method3')\n",
    "        \n",
    "class C(A):\n",
    "    def method2(self):\n",
    "        print('C.method2')\n",
    "        \n",
    "    def method3(self):\n",
    "        print('C.method3')\n",
    "\n",
    "#多重繼承\n",
    "class D(B, C):\n",
    "    def method4(self):\n",
    "        print('D.method4')\n",
    "\n",
    "#Python中的多重繼承，搜尋的順序從子類別開始，接著是同一階層父類別由左至右搜尋，再至更上層同一階層父類別由左至右搜尋，直到達到頂層為止。"
   ]
  },
  {
   "cell_type": "code",
   "execution_count": 8,
   "metadata": {
    "collapsed": true
   },
   "outputs": [],
   "source": [
    "d = D()"
   ]
  },
  {
   "cell_type": "code",
   "execution_count": 9,
   "metadata": {},
   "outputs": [
    {
     "name": "stdout",
     "output_type": "stream",
     "text": [
      "D.method4\n",
      "B.method3\n",
      "C.method2\n",
      "A.method1\n"
     ]
    }
   ],
   "source": [
    "d.method4()\n",
    "d.method3()\n",
    "d.method2()\n",
    "d.method1()"
   ]
  },
  {
   "cell_type": "code",
   "execution_count": null,
   "metadata": {
    "collapsed": true
   },
   "outputs": [],
   "source": []
  }
 ],
 "metadata": {
  "kernelspec": {
   "display_name": "Python 3",
   "language": "python",
   "name": "python3"
  },
  "language_info": {
   "codemirror_mode": {
    "name": "ipython",
    "version": 3
   },
   "file_extension": ".py",
   "mimetype": "text/x-python",
   "name": "python",
   "nbconvert_exporter": "python",
   "pygments_lexer": "ipython3",
   "version": "3.6.1"
  }
 },
 "nbformat": 4,
 "nbformat_minor": 2
}
