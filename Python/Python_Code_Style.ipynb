{
 "cells": [
  {
   "cell_type": "code",
   "execution_count": null,
   "metadata": {
    "collapsed": true
   },
   "outputs": [],
   "source": [
    "# 參考網站：https://www.python.org/dev/peps/pep-0008/"
   ]
  },
  {
   "cell_type": "code",
   "execution_count": 4,
   "metadata": {
    "collapsed": true
   },
   "outputs": [],
   "source": [
    "# 方法名稱以 _ 符號，隔開有意義的單字\n",
    "# 定義的方法參數過多需要換行，必須縮排兩次與方法中的代碼有所區別\n",
    "def long_function_name(\n",
    "        parm_one, parm_two,\n",
    "        parm_three, parm_four):\n",
    "    print(\"do something\")"
   ]
  },
  {
   "cell_type": "code",
   "execution_count": 9,
   "metadata": {},
   "outputs": [
    {
     "name": "stdout",
     "output_type": "stream",
     "text": [
      "do something\n",
      "do something\n"
     ]
    }
   ],
   "source": [
    "# 呼叫的方法參數過多需要換行：\n",
    "# 方式一：換行後，其後的參數必須對齊開頭的 ( 符號\n",
    "foo = long_function_name(\"var_one\", \"var_two\",\n",
    "                         \"var_three\", \"var_four\")\n",
    "# 方式二：以多列資料的方式呈現\n",
    "foo = long_function_name(\n",
    "    \"var_one\", \"var_two\",\n",
    "    \"var_three\", \"var_four\"\n",
    ")"
   ]
  },
  {
   "cell_type": "code",
   "execution_count": 10,
   "metadata": {},
   "outputs": [
    {
     "name": "stdout",
     "output_type": "stream",
     "text": [
      "do something\n",
      "do something\n"
     ]
    }
   ],
   "source": [
    "# if、assert、with as等陳述句條件過長需要換行：\n",
    "# 方式一：其後的條件必須縮排兩次與 if 中的代碼有所區別\n",
    "if (\"this_is_first_condition\"\n",
    "       and \"this_is_second_condition\"):\n",
    "    print(\"do something\")\n",
    "    \n",
    "# 方式二：以反斜線\\作為換行時的標記\n",
    "if (\"this_is_first_condition\" \\\n",
    "    and \"this_is_second_condition\"):\n",
    "    print(\"do something\")"
   ]
  },
  {
   "cell_type": "code",
   "execution_count": 7,
   "metadata": {
    "collapsed": true
   },
   "outputs": [],
   "source": [
    "# 多列資料呈現方式\n",
    "list = [\n",
    "    1, 2, 3,\n",
    "    4, 5, 6,\n",
    "    7, 8, 9,\n",
    "]"
   ]
  },
  {
   "cell_type": "code",
   "execution_count": 8,
   "metadata": {},
   "outputs": [
    {
     "data": {
      "text/plain": [
       "[1, 2, 3, 4, 5, 6, 7, 8, 9]"
      ]
     },
     "execution_count": 8,
     "metadata": {},
     "output_type": "execute_result"
    }
   ],
   "source": [
    "list"
   ]
  },
  {
   "cell_type": "code",
   "execution_count": null,
   "metadata": {
    "collapsed": true
   },
   "outputs": [],
   "source": [
    "# 二元運算子必須與準備運算的運算元同一列，可讀性較高\n",
    "income = (gross_wages\n",
    "          + taxable_interest\n",
    "          + (dividends - qualified_dividends)\n",
    "          - ira_deduction\n",
    "          - student_loan_interest)"
   ]
  },
  {
   "cell_type": "code",
   "execution_count": null,
   "metadata": {
    "collapsed": true
   },
   "outputs": [],
   "source": []
  }
 ],
 "metadata": {
  "kernelspec": {
   "display_name": "Python 3",
   "language": "python",
   "name": "python3"
  },
  "language_info": {
   "codemirror_mode": {
    "name": "ipython",
    "version": 3
   },
   "file_extension": ".py",
   "mimetype": "text/x-python",
   "name": "python",
   "nbconvert_exporter": "python",
   "pygments_lexer": "ipython3",
   "version": "3.6.1"
  }
 },
 "nbformat": 4,
 "nbformat_minor": 2
}
