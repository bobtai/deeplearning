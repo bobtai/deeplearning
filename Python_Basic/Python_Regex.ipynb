{
 "cells": [
  {
   "cell_type": "code",
   "execution_count": 22,
   "metadata": {},
   "outputs": [
    {
     "name": "stdout",
     "output_type": "stream",
     "text": [
      "None\n",
      "None\n",
      "<_sre.SRE_Match object; span=(0, 3), match='Bob'>\n"
     ]
    }
   ],
   "source": [
    "# https://docs.python.org/3/library/re.html\n",
    "import re\n",
    "\n",
    "pattern = '^Bob$'\n",
    "string1 = 'I am Bob'\n",
    "string2 = 'Bob is me'\n",
    "string3 = 'Bob'\n",
    "\n",
    "prog = re.compile(pattern)\n",
    "print(prog.search(string1))\n",
    "print(prog.search(string2))\n",
    "print(prog.search(string3))"
   ]
  },
  {
   "cell_type": "code",
   "execution_count": null,
   "metadata": {
    "collapsed": true
   },
   "outputs": [],
   "source": []
  }
 ],
 "metadata": {
  "kernelspec": {
   "display_name": "Python 3",
   "language": "python",
   "name": "python3"
  },
  "language_info": {
   "codemirror_mode": {
    "name": "ipython",
    "version": 3
   },
   "file_extension": ".py",
   "mimetype": "text/x-python",
   "name": "python",
   "nbconvert_exporter": "python",
   "pygments_lexer": "ipython3",
   "version": "3.6.1"
  }
 },
 "nbformat": 4,
 "nbformat_minor": 2
}
