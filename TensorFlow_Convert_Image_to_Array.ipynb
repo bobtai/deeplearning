{
 "cells": [
  {
   "cell_type": "code",
   "execution_count": 1,
   "metadata": {
    "collapsed": true
   },
   "outputs": [],
   "source": [
    "import tensorflow as tf\n",
    "import matplotlib.pyplot as plt"
   ]
  },
  {
   "cell_type": "code",
   "execution_count": 2,
   "metadata": {
    "collapsed": true
   },
   "outputs": [],
   "source": [
    "image_path = '/Users/PChomeIM/uploads/handwrite.png'\n",
    "filename_queue = tf.train.string_input_producer([image_path])\n",
    "\n",
    "reader = tf.WholeFileReader()\n",
    "key, value = reader.read(filename_queue)\n",
    "\n",
    "#TensorFlow pricessing image\n",
    "#https://www.tensorflow.org/versions/r0.12/api_docs/python/image/\n",
    "# channels=1: output a grayscale image.\n",
    "# channels=3: output an RGB image.\n",
    "myimg = tf.image.decode_png(value, channels=1)\n",
    "#crop_myimg = tf.image.resize_image_with_crop_or_pad(myimg, 300, 300) #置中裁減\n",
    "#resize_myimg = tf.image.resize_images(crop_myimg, [28, 28]) #調整大小"
   ]
  },
  {
   "cell_type": "code",
   "execution_count": 3,
   "metadata": {},
   "outputs": [
    {
     "name": "stdout",
     "output_type": "stream",
     "text": [
      "(278, 297)\n"
     ]
    },
    {
     "data": {
      "image/png": "[encoded data removed]",
      "text/plain": [
       "<matplotlib.figure.Figure at 0x121a2d6a0>"
      ]
     },
     "metadata": {},
     "output_type": "display_data"
    }
   ],
   "source": [
    "with tf.Session() as sess:\n",
    "    init = tf.global_variables_initializer()\n",
    "    sess.run(init)\n",
    "    \n",
    "    coord = tf.train.Coordinator()\n",
    "    threads = tf.train.start_queue_runners(coord=coord)\n",
    "    \n",
    "    fig = plt.gcf()\n",
    "    fig.set_size_inches(2, 2)\n",
    "    for i in range(1):\n",
    "        '''\n",
    "        The difference is in Operations and Tensors. \n",
    "        Operations use run() and Tensors use eval().\n",
    "        In this example, resize_myimg is a tensor.\n",
    "        And tensor.eval() is equivalent to sess.run(tensor).\n",
    "        ''' \n",
    "        #image = resize_myimg.eval() #is equivalent to sess.run(resize_myimg)\n",
    "        image = sess.run(myimg)\n",
    "        reshape_image = image.reshape(image.shape[0], image.shape[1])\n",
    "        abs_image = abs(256-reshape_image)\n",
    "        print(abs_image.shape)\n",
    "        #print(abs_image)\n",
    "        plt.imshow(abs_image, cmap='binary')\n",
    "        \n",
    "    plt.show()\n",
    "\n",
    "    coord.request_stop()\n",
    "    coord.join(threads)"
   ]
  },
  {
   "cell_type": "code",
   "execution_count": null,
   "metadata": {
    "collapsed": true
   },
   "outputs": [],
   "source": []
  }
 ],
 "metadata": {
  "kernelspec": {
   "display_name": "Python 3",
   "language": "python",
   "name": "python3"
  },
  "language_info": {
   "codemirror_mode": {
    "name": "ipython",
    "version": 3
   },
   "file_extension": ".py",
   "mimetype": "text/x-python",
   "name": "python",
   "nbconvert_exporter": "python",
   "pygments_lexer": "ipython3",
   "version": "3.6.1"
  }
 },
 "nbformat": 4,
 "nbformat_minor": 2
}
