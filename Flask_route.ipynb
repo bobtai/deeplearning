{
 "cells": [
  {
   "cell_type": "code",
   "execution_count": null,
   "metadata": {},
   "outputs": [
    {
     "name": "stderr",
     "output_type": "stream",
     "text": [
      " * Running on http://127.0.0.1:5000/ (Press CTRL+C to quit)\n",
      "127.0.0.1 - - [12/Sep/2017 12:18:38] \"GET / HTTP/1.1\" 200 -\n",
      "127.0.0.1 - - [12/Sep/2017 12:18:47] \"GET /hello HTTP/1.1\" 405 -\n",
      "127.0.0.1 - - [12/Sep/2017 12:25:20] \"GET / HTTP/1.1\" 200 -\n",
      "127.0.0.1 - - [12/Sep/2017 12:26:49] \"POST /hello HTTP/1.1\" 200 -\n"
     ]
    }
   ],
   "source": [
    "from flask import Flask\n",
    "\n",
    "#new Flask obj, and tell Flask where is the module.\n",
    "app = Flask(__name__)\n",
    "\n",
    "#URL開頭一定要帶斜線\n",
    "@app.route('/')\n",
    "def index():\n",
    "    return 'index page'\n",
    "\n",
    "#限制該URL可以訪問的方式\n",
    "@app.route('/hello', methods=['POST'])\n",
    "def hello():\n",
    "    return 'hello world'\n",
    "\n",
    "#傳入變數，預設的變數為字串\n",
    "@app.route('/user/<username>')\n",
    "def user(username):\n",
    "    return 'your name is %s' % username\n",
    "\n",
    "#傳入整數變數，須使用轉換器\n",
    "@app.route('/height/<int:height>')\n",
    "def height(height):\n",
    "    return 'your height is %d' % height\n",
    "\n",
    "#類似UNIX-like訪問資料夾，當訪問時URL結尾帶不帶斜線，都會被導到此頁面\n",
    "@app.route('/project/')\n",
    "def project():\n",
    "    return 'project page'\n",
    "\n",
    "#類似UNIX-like訪問檔案，當訪問時URL結尾帶斜線，會顯示404\n",
    "@app.route('/about')\n",
    "def about():\n",
    "    return 'abount page'\n",
    "\n",
    "if __name__ == '__main__':\n",
    "    app.run()"
   ]
  },
  {
   "cell_type": "code",
   "execution_count": null,
   "metadata": {
    "collapsed": true
   },
   "outputs": [],
   "source": []
  }
 ],
 "metadata": {
  "kernelspec": {
   "display_name": "Python 3",
   "language": "python",
   "name": "python3"
  },
  "language_info": {
   "codemirror_mode": {
    "name": "ipython",
    "version": 3
   },
   "file_extension": ".py",
   "mimetype": "text/x-python",
   "name": "python",
   "nbconvert_exporter": "python",
   "pygments_lexer": "ipython3",
   "version": "3.6.1"
  }
 },
 "nbformat": 4,
 "nbformat_minor": 2
}
