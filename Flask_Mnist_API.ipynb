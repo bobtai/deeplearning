{
 "cells": [
  {
   "cell_type": "code",
   "execution_count": null,
   "metadata": {},
   "outputs": [
    {
     "name": "stderr",
     "output_type": "stream",
     "text": [
      "Using TensorFlow backend.\n",
      " * Running on http://127.0.0.1:5000/ (Press CTRL+C to quit)\n",
      "127.0.0.1 - - [14/Sep/2017 15:37:48] \"GET / HTTP/1.1\" 404 -\n",
      "127.0.0.1 - - [14/Sep/2017 15:37:53] \"GET /upload HTTP/1.1\" 200 -\n"
     ]
    },
    {
     "name": "stdout",
     "output_type": "stream",
     "text": [
      "\r",
      "1/1 [==============================] - 0s"
     ]
    },
    {
     "name": "stderr",
     "output_type": "stream",
     "text": [
      "127.0.0.1 - - [14/Sep/2017 15:38:29] \"POST /upload HTTP/1.1\" 200 -\n"
     ]
    },
    {
     "name": "stdout",
     "output_type": "stream",
     "text": [
      "\n"
     ]
    }
   ],
   "source": [
    "import os\n",
    "import tensorflow as tf\n",
    "from keras.models import load_model\n",
    "from flask import Flask, request\n",
    "from werkzeug import secure_filename\n",
    "\n",
    "UPLOAD_FOLDER = '/Users/PChomeIM/uploads'\n",
    "ALLOWED_EXTENSIONS = ['png']\n",
    "GRAYSCALE_MAX_NUM = 255\n",
    "\n",
    "def allowed_file(filename):\n",
    "    return '.' in filename \\\n",
    "        and filename.rsplit('.')[1] in ALLOWED_EXTENSIONS\n",
    "    \n",
    "def convert_image_to_array(imagepath):\n",
    "    filename_queue = tf.train.string_input_producer([imagepath])\n",
    "    reader = tf.WholeFileReader()\n",
    "    key, value = reader.read(filename_queue)\n",
    "    myimg = tf.image.decode_png(value, channels=1)\n",
    "    crop_myimg = tf.image.resize_image_with_crop_or_pad(myimg, 140, 140)\n",
    "    resize_myimg = tf.image.resize_images(crop_myimg, [28, 28])\n",
    "    \n",
    "    with tf.Session() as sess:\n",
    "        init = tf.global_variables_initializer()\n",
    "        sess.run(init)\n",
    "    \n",
    "        coord = tf.train.Coordinator()\n",
    "        threads = tf.train.start_queue_runners(coord=coord)\n",
    "    \n",
    "        image = resize_myimg.eval().reshape(1, 28, 28, 1)\n",
    "        normalize_image = abs(GRAYSCALE_MAX_NUM - image).astype('float32') / GRAYSCALE_MAX_NUM\n",
    "\n",
    "        coord.request_stop()\n",
    "        coord.join(threads)\n",
    "    \n",
    "    return normalize_image\n",
    "    \n",
    "app = Flask(__name__)\n",
    "app.config['UPLOAD_FOLDER'] = UPLOAD_FOLDER\n",
    "\n",
    "#載入預測模型\n",
    "model = load_model(\"/Users/PChomeIM/pywork/SaveModel/MnistCNNModel.h5\")\n",
    "\n",
    "@app.route('/upload', methods=['GET', 'POST'])\n",
    "def upload():\n",
    "    if request.method == 'POST':\n",
    "        file = request.files['file']\n",
    "        if file and allowed_file(file.filename):\n",
    "            filename = secure_filename(file.filename)\n",
    "            filepath = os.path.join(app.config['UPLOAD_FOLDER'], filename)\n",
    "            file.save(filepath)\n",
    "            \n",
    "            normalize_image = convert_image_to_array(filepath)\n",
    "            \n",
    "            prediction = model.predict_classes(normalize_image)\n",
    "\n",
    "            return 'The number of image is ' + str(prediction[0])\n",
    "        else:\n",
    "            return 'The format of image is not supported.'\n",
    "    return '''\n",
    "    <!doctype html>\n",
    "    <title>Upload new File</title>\n",
    "    <h1>Upload new File</h1>\n",
    "    <form action=\"\" method=post enctype=multipart/form-data>\n",
    "      <p><input type=file name=file>\n",
    "         <input type=submit value=Upload>\n",
    "    </form>\n",
    "    '''\n",
    "        \n",
    "if __name__ == '__main__':\n",
    "    app.run()"
   ]
  },
  {
   "cell_type": "code",
   "execution_count": null,
   "metadata": {
    "collapsed": true
   },
   "outputs": [],
   "source": []
  }
 ],
 "metadata": {
  "kernelspec": {
   "display_name": "Python 3",
   "language": "python",
   "name": "python3"
  },
  "language_info": {
   "codemirror_mode": {
    "name": "ipython",
    "version": 3
   },
   "file_extension": ".py",
   "mimetype": "text/x-python",
   "name": "python",
   "nbconvert_exporter": "python",
   "pygments_lexer": "ipython3",
   "version": "3.6.1"
  }
 },
 "nbformat": 4,
 "nbformat_minor": 2
}
